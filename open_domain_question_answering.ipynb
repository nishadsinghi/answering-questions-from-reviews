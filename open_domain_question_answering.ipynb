{
  "cells": [
    {
      "cell_type": "markdown",
      "metadata": {
        "id": "nr13KKCR3RS3"
      },
      "source": [
        "# The Retriever"
      ]
    },
    {
      "cell_type": "code",
      "execution_count": 144,
      "metadata": {
        "colab": {
          "base_uri": "https://localhost:8080/"
        },
        "id": "v_Sw0hfeKxNd",
        "outputId": "c14be241-e9d0-4ab0-8321-a409488d7ec6"
      },
      "outputs": [
        {
          "output_type": "stream",
          "name": "stdout",
          "text": [
            "Drive already mounted at /content/drive; to attempt to forcibly remount, call drive.mount(\"/content/drive\", force_remount=True).\n"
          ]
        }
      ],
      "source": [
        "from google.colab import drive\n",
        "drive.mount('/content/drive')"
      ]
    },
    {
      "cell_type": "code",
      "execution_count": null,
      "metadata": {
        "id": "ywaMBFSCMwdx"
      },
      "outputs": [],
      "source": [
        "!pip install datasets\n",
        "!pip install transformers"
      ]
    },
    {
      "cell_type": "code",
      "execution_count": 146,
      "metadata": {
        "colab": {
          "base_uri": "https://localhost:8080/",
          "height": 87,
          "referenced_widgets": [
            "83247da511d5450fa80b66e3accf7824",
            "ca10985d8cb34f8e9ae579b43acbd0ad",
            "623b929c92d14fce8891edbde2d05c8e",
            "a049d329032849c490a623cd304d6adc",
            "ab077525889b446db7c5403d32a4b180",
            "93d74a3332314abab464a165612d8f7e",
            "969eca3507e14d4d983e1a4b0c6c9035",
            "9c8321c5fe554709bad4834708d9ce2b",
            "f2a4b32d8e1641b3adecda56db3e8a4c",
            "a991276f6e3c4185b849074c35f2ac5a",
            "1688d51d064a4376a17acf8ba8a841f1"
          ]
        },
        "id": "ZD_dUpvdMwbC",
        "outputId": "a0137f6d-e4d5-4c6a-c157-2495e074d32a"
      },
      "outputs": [
        {
          "output_type": "stream",
          "name": "stderr",
          "text": [
            "WARNING:datasets.builder:Found cached dataset subjqa (/root/.cache/huggingface/datasets/subjqa/electronics/1.1.0/e5588f9298ff2d70686a00cc377e4bdccf4e32287459e3c6baf2dc5ab57fe7fd)\n"
          ]
        },
        {
          "output_type": "display_data",
          "data": {
            "text/plain": [
              "  0%|          | 0/3 [00:00<?, ?it/s]"
            ],
            "application/vnd.jupyter.widget-view+json": {
              "version_major": 2,
              "version_minor": 0,
              "model_id": "83247da511d5450fa80b66e3accf7824"
            }
          },
          "metadata": {}
        }
      ],
      "source": [
        "import datasets\n",
        "subjqa = datasets.load_dataset(\"subjqa\", name = \"electronics\")"
      ]
    },
    {
      "cell_type": "code",
      "execution_count": 147,
      "metadata": {
        "id": "z64tTfWXMwYf"
      },
      "outputs": [],
      "source": [
        "subjqa_test = subjqa['test']"
      ]
    },
    {
      "cell_type": "code",
      "execution_count": null,
      "metadata": {
        "id": "xLT95afZkAEG"
      },
      "outputs": [],
      "source": [
        "!pip install sentence_transformers\n",
        "from sentence_transformers import SentenceTransformer, util"
      ]
    },
    {
      "cell_type": "code",
      "execution_count": 149,
      "metadata": {
        "id": "Ufw4WrmUhmOg"
      },
      "outputs": [],
      "source": [
        "subjqa_test_contexts = subjqa_test['context']\n",
        "subjqa_test_questions = subjqa_test['question']\n",
        "subjqa_test_answers = subjqa_test['answers']"
      ]
    },
    {
      "cell_type": "code",
      "execution_count": 150,
      "metadata": {
        "id": "EEmhK71P3u5r"
      },
      "outputs": [],
      "source": [
        "from torch.nn import CosineSimilarity\n",
        "import numpy as np\n",
        "\n",
        "def retrieve(query, bi_encoder, context_embeddings, top_k_return):\n",
        "    question_embedding = bi_encoder.encode(query, convert_to_tensor=True)\n",
        "    question_embedding = question_embedding.cuda()\n",
        "    cos = CosineSimilarity(dim=1, eps=1e-6)\n",
        "    query_cosine_similarities_with_contexts = cos(question_embedding, context_embeddings).cpu()\n",
        "    top_k_context_idx_reversed = np.array(query_cosine_similarities_with_contexts.argsort()[-top_k_return:])\n",
        "    top_k_context_idx = top_k_context_idx_reversed[::-1]\n",
        "\n",
        "    return top_k_context_idx"
      ]
    },
    {
      "cell_type": "markdown",
      "metadata": {
        "id": "YLXw5G6W6zM3"
      },
      "source": [
        "Evaluating pre-trained bi-encoder"
      ]
    },
    {
      "cell_type": "code",
      "execution_count": null,
      "metadata": {
        "id": "KaierCldkAB0"
      },
      "outputs": [],
      "source": [
        "bi_encoder = SentenceTransformer('sentence-transformers/multi-qa-MiniLM-L6-cos-v1')\n",
        "context_embeddings = bi_encoder.encode(subjqa_test_contexts, convert_to_tensor=True, show_progress_bar=True)"
      ]
    },
    {
      "cell_type": "code",
      "execution_count": 152,
      "metadata": {
        "id": "-JtflNWb38SD"
      },
      "outputs": [],
      "source": [
        "all_k = (1, 3, 5, 10, 20, 40, 80, 100, 160, 200)\n",
        "\n",
        "recalls = {}\n",
        "for k in all_k:\n",
        "  recalls[k] = []\n",
        "\n",
        "# first retrieve the top k relevant docs for each question using bi-encoder\n",
        "# and then for each value of k, check if the true context is present in the \n",
        "# top-k retrieved contexts\n",
        "for test_question_idx in range(len(subjqa_test_questions)):\n",
        "  test_question = subjqa_test_questions[test_question_idx]\n",
        "  all_top_idx = retrieve(test_question, bi_encoder, context_embeddings, np.max(all_k))\n",
        "\n",
        "  for k in all_k:\n",
        "    top_k_idx = all_top_idx[:k]\n",
        "    if test_question_idx in top_k_idx:\n",
        "      recalls[k].append(1)\n",
        "    else:\n",
        "      recalls[k].append(0)\n",
        "\n",
        "mean_recalls_pretrained = {k: np.mean(recalls[k])*100 for k in all_k}"
      ]
    },
    {
      "cell_type": "code",
      "execution_count": 153,
      "metadata": {
        "colab": {
          "base_uri": "https://localhost:8080/",
          "height": 295
        },
        "id": "ACxy_wgQ4af_",
        "outputId": "015cd071-7456-4dd3-82de-e182fae88183"
      },
      "outputs": [
        {
          "output_type": "display_data",
          "data": {
            "text/plain": [
              "<Figure size 432x288 with 1 Axes>"
            ],
            "image/png": "[encoded data removed]"
          },
          "metadata": {
            "needs_background": "light"
          }
        }
      ],
      "source": [
        "from matplotlib import pyplot as plt\n",
        "\n",
        "plt.plot(list(mean_recalls_pretrained.keys()), list(mean_recalls_pretrained.values()), marker='o')\n",
        "plt.xlabel('# Contexts returned by retriever (k)')\n",
        "plt.ylabel(\"Recall %\")\n",
        "plt.title(\"Recall as a function of number of contexts returned by Bi-encoder\")\n",
        "\n",
        "plt.show()"
      ]
    },
    {
      "cell_type": "markdown",
      "metadata": {
        "id": "eeOAJ_f_638Y"
      },
      "source": [
        "Fine-tuning the bi-encoder on subjqa train dataset"
      ]
    },
    {
      "cell_type": "code",
      "execution_count": 154,
      "metadata": {
        "id": "9g5OkZ9s8IR8"
      },
      "outputs": [],
      "source": [
        "subjqa_train = subjqa['train']"
      ]
    },
    {
      "cell_type": "code",
      "execution_count": 155,
      "metadata": {
        "colab": {
          "base_uri": "https://localhost:8080/",
          "height": 49,
          "referenced_widgets": [
            "a98edcc922684ca1af9d388d72be0a1e",
            "dbf83d5aa4ce49d9b6f54b9698e15fd4",
            "0356db7943c3484daff5fa8037982061",
            "fc65b96ed5904b5182da41fd1038877e",
            "e04c43e6bc654abaa789f6dfa07a3c6b",
            "cbdf22b8becd4de59a77a3f631ffec70",
            "cbacd140c19f4a57a130d1a01c9ea4df",
            "513dd5ebcad04ba6b9d3c0e0cee60817",
            "6a13c0c77bbe4235a39f032dd4b30b72",
            "7e2b99e6fd764f74842f8b54c0bb2f3c",
            "26d16e6b53e44122aef400c60372b304"
          ]
        },
        "id": "CnINuROJ7W4Z",
        "outputId": "59a5db03-c82d-452b-ac29-9297be172f21"
      },
      "outputs": [
        {
          "output_type": "display_data",
          "data": {
            "text/plain": [
              "  0%|          | 0/1295 [00:00<?, ?it/s]"
            ],
            "application/vnd.jupyter.widget-view+json": {
              "version_major": 2,
              "version_minor": 0,
              "model_id": "a98edcc922684ca1af9d388d72be0a1e"
            }
          },
          "metadata": {}
        }
      ],
      "source": [
        "from sentence_transformers import InputExample\n",
        "from tqdm.auto import tqdm\n",
        "\n",
        "train = []\n",
        "for row in tqdm(subjqa_train):\n",
        "    train.append(InputExample(\n",
        "        texts=[row['question'], row['context']]\n",
        "    ))"
      ]
    },
    {
      "cell_type": "code",
      "execution_count": 156,
      "metadata": {
        "id": "yagzhwuF9DeK"
      },
      "outputs": [],
      "source": [
        "from sentence_transformers import datasets\n",
        "\n",
        "batch_size = 24\n",
        "\n",
        "dataloader = datasets.NoDuplicatesDataLoader(train, batch_size=batch_size)"
      ]
    },
    {
      "cell_type": "code",
      "execution_count": 157,
      "metadata": {
        "id": "adXX_bYp69P2"
      },
      "outputs": [],
      "source": [
        "from sentence_transformers import losses\n",
        "\n",
        "mnrloss = losses.MultipleNegativesRankingLoss(bi_encoder)"
      ]
    },
    {
      "cell_type": "code",
      "execution_count": null,
      "metadata": {
        "id": "nKkuo5z79orR"
      },
      "outputs": [],
      "source": [
        "epochs = 3\n",
        "warmup_steps = int(len(dataloader) * epochs * 0.1)\n",
        "\n",
        "bi_encoder.fit(\n",
        "    train_objectives=[(dataloader, mnrloss)],\n",
        "    epochs=epochs,\n",
        "    warmup_steps=warmup_steps,\n",
        "    output_path='bi_encoder_finetuned_subjqa_electronics',\n",
        "    show_progress_bar=True\n",
        ")"
      ]
    },
    {
      "cell_type": "code",
      "execution_count": null,
      "metadata": {
        "id": "gfAwc5CrBOlf"
      },
      "outputs": [],
      "source": [
        "context_embeddings = bi_encoder.encode(subjqa_test_contexts, convert_to_tensor=True, show_progress_bar=True)"
      ]
    },
    {
      "cell_type": "code",
      "execution_count": 160,
      "metadata": {
        "id": "a7tu1cWx-Y5S"
      },
      "outputs": [],
      "source": [
        "all_k = (1, 3, 5, 10, 20, 40, 80, 100, 160, 200)\n",
        "\n",
        "recalls = {}\n",
        "for k in all_k:\n",
        "  recalls[k] = []\n",
        "\n",
        "# first retrieve the top k relevant docs for each question using bi-encoder\n",
        "# and then for each value of k, check if the true context is present in the \n",
        "# top-k retrieved contexts\n",
        "for test_question_idx in range(len(subjqa_test_questions)):\n",
        "  test_question = subjqa_test_questions[test_question_idx]\n",
        "  all_top_idx = retrieve(test_question, bi_encoder, context_embeddings, np.max(all_k))\n",
        "\n",
        "  for k in all_k:\n",
        "    top_k_idx = all_top_idx[:k]\n",
        "    if test_question_idx in top_k_idx:\n",
        "      recalls[k].append(1)\n",
        "    else:\n",
        "      recalls[k].append(0)\n",
        "\n",
        "mean_recalls_finetuned = {k: np.mean(recalls[k])*100 for k in all_k}"
      ]
    },
    {
      "cell_type": "code",
      "execution_count": 161,
      "metadata": {
        "colab": {
          "base_uri": "https://localhost:8080/",
          "height": 295
        },
        "id": "ooJiUElG-Y5S",
        "outputId": "ab7ac2e4-8a60-4b24-89a9-f83f1861621a"
      },
      "outputs": [
        {
          "output_type": "display_data",
          "data": {
            "text/plain": [
              "<Figure size 432x288 with 1 Axes>"
            ],
            "image/png": "[encoded data removed]"
          },
          "metadata": {
            "needs_background": "light"
          }
        }
      ],
      "source": [
        "from matplotlib import pyplot as plt\n",
        "\n",
        "plt.plot(list(mean_recalls_pretrained.keys()), list(mean_recalls_pretrained.values()), marker='o', label='pretrained')\n",
        "plt.plot(list(mean_recalls_finetuned.keys()), list(mean_recalls_finetuned.values()), marker='o', label='finetuned')\n",
        "plt.xlabel('# Contexts returned by retriever (k)')\n",
        "plt.ylabel(\"Recall %\")\n",
        "plt.title(\"Recall as a function of number of contexts returned by Bi-encoder\")\n",
        "plt.legend()\n",
        "\n",
        "plt.show()"
      ]
    },
    {
      "cell_type": "markdown",
      "metadata": {
        "id": "3D8jO0inIrXJ"
      },
      "source": [
        "# Re-ranking using cross-encoder"
      ]
    },
    {
      "cell_type": "code",
      "execution_count": 162,
      "metadata": {
        "id": "LG-Jkud4Jxoe"
      },
      "outputs": [],
      "source": [
        "def retrieveAndReRank(query, bi_encoder, cross_encoder, context_embeddings, top_k_return, top_k_biencoder):\n",
        "    # retrieve using bi-encoder\n",
        "    question_embedding = bi_encoder.encode(query, convert_to_tensor=True)\n",
        "    question_embedding = question_embedding.cuda()\n",
        "    cos = CosineSimilarity(dim=1, eps=1e-6)\n",
        "    query_cosine_similarities_with_contexts = cos(question_embedding, context_embeddings).cpu()\n",
        "    top_k_context_idx_reversed = np.array(query_cosine_similarities_with_contexts.argsort()[-top_k_biencoder:])\n",
        "    top_k_context_idx = top_k_context_idx_reversed[::-1]\n",
        "\n",
        "    # re-rank using cross-encoder\n",
        "    cross_encoder_scores = {index: cross_encoder.predict([query, subjqa_test_contexts[index]]) for index in top_k_context_idx}\n",
        "    cross_encoder_scores_sorted = {k: v for k, v in sorted(cross_encoder_scores.items(), key=lambda item: item[1], reverse=True)}\n",
        "    re_ranked_idx = list(cross_encoder_scores_sorted.keys())\n",
        "\n",
        "    re_ranked_idx_return = re_ranked_idx[:top_k_return]\n",
        "\n",
        "    return re_ranked_idx_return"
      ]
    },
    {
      "cell_type": "code",
      "execution_count": null,
      "metadata": {
        "id": "WDM6mvgPYYGP"
      },
      "outputs": [],
      "source": [
        "!pip install -U sentence-transformers"
      ]
    },
    {
      "cell_type": "code",
      "execution_count": null,
      "metadata": {
        "id": "hizIHU1BYTkS"
      },
      "outputs": [],
      "source": [
        "from sentence_transformers import CrossEncoder\n",
        "# cross_encoder = CrossEncoder(model_name='cross-encoder/ms-marco-MiniLM-L-6-v2', num_labels=1, max_length=512, device='cuda')\n",
        "cross_encoder = CrossEncoder(model_name='cross-encoder/ms-marco-MiniLM-L-6-v2', max_length=256)"
      ]
    },
    {
      "cell_type": "code",
      "execution_count": 165,
      "metadata": {
        "colab": {
          "base_uri": "https://localhost:8080/",
          "height": 49,
          "referenced_widgets": [
            "eb8a18602ae04243b23bd18ff0fdefaf",
            "b7fcc78d5f3640769029c26cc7c86d51",
            "81574060f1db4efeb3efba8f70fa271b",
            "72bdc307daad4bf8b6f3f918fc799d6b",
            "864d1136c80948df8534c104082d1569",
            "b707830198ad45d986f24790f01dd2a8",
            "debb2b40dd444ec3a4b7026bb9bc6403",
            "994ef5aca1d44ba8a04e78cbcede5d15",
            "3cd6ee26856b4b50920d525b09695a97",
            "8d28562e6d2d404d9a28d1c9faf6bff6",
            "70be2ee461504359b434475ef2240b5b"
          ]
        },
        "id": "WSR_L3hKKcM1",
        "outputId": "885f7868-2f99-4a76-c878-e541af290e66"
      },
      "outputs": [
        {
          "output_type": "display_data",
          "data": {
            "text/plain": [
              "  0%|          | 0/358 [00:00<?, ?it/s]"
            ],
            "application/vnd.jupyter.widget-view+json": {
              "version_major": 2,
              "version_minor": 0,
              "model_id": "eb8a18602ae04243b23bd18ff0fdefaf"
            }
          },
          "metadata": {}
        }
      ],
      "source": [
        "all_k = (1, 3, 5, 10, 20, 40, 80, 100)\n",
        "\n",
        "recalls = {}\n",
        "for k in all_k:\n",
        "  recalls[k] = []\n",
        "\n",
        "# first retrieve the top k relevant docs for each question using bi-encoder\n",
        "# and then for each value of k, check if the true context is present in the \n",
        "# top-k retrieved contexts\n",
        "for test_question_idx in tqdm(range(len(subjqa_test_questions))):\n",
        "  test_question = subjqa_test_questions[test_question_idx]\n",
        "  all_top_idx = retrieveAndReRank(test_question, bi_encoder, cross_encoder, context_embeddings, np.max(all_k), 100)\n",
        "\n",
        "  for k in all_k:\n",
        "    top_k_idx = all_top_idx[:k]\n",
        "    if test_question_idx in top_k_idx:\n",
        "      recalls[k].append(1)\n",
        "    else:\n",
        "      recalls[k].append(0)\n",
        "\n",
        "mean_recalls_crossencoder_pretrained = {k: np.mean(recalls[k])*100 for k in all_k}"
      ]
    },
    {
      "cell_type": "code",
      "execution_count": 166,
      "metadata": {
        "colab": {
          "base_uri": "https://localhost:8080/",
          "height": 295
        },
        "id": "m0jd80QCMl0k",
        "outputId": "b7dffd33-9799-49cf-b77e-8100eda4ae41"
      },
      "outputs": [
        {
          "output_type": "display_data",
          "data": {
            "text/plain": [
              "<Figure size 432x288 with 1 Axes>"
            ],
            "image/png": "[encoded data removed]"
          },
          "metadata": {
            "needs_background": "light"
          }
        }
      ],
      "source": [
        "from matplotlib import pyplot as plt\n",
        "\n",
        "plt.plot(list(mean_recalls_crossencoder_pretrained.keys()), list(mean_recalls_crossencoder_pretrained.values()), marker='o', label='bi-encoder + cross-encoder')\n",
        "plt.plot(list(mean_recalls_finetuned.keys()), list(mean_recalls_finetuned.values()), marker='o', label='bi-encoder only')\n",
        "plt.xlabel('# Contexts returned by retriever (k)')\n",
        "plt.ylabel(\"Recall %\")\n",
        "plt.title(\"Recall as a function of number of contexts returned by Bi-encoder + Cross-Encoder\")\n",
        "plt.legend()\n",
        "\n",
        "plt.show()"
      ]
    },
    {
      "cell_type": "markdown",
      "metadata": {
        "id": "Ep3BNo6IQukJ"
      },
      "source": [
        "Fine-tune Cross-Encoder"
      ]
    },
    {
      "cell_type": "code",
      "execution_count": null,
      "metadata": {
        "id": "-T8jNyKvV2dw"
      },
      "outputs": [],
      "source": [
        "# get training data\n",
        "subjqa_train = subjqa['train']\n",
        "subjqa_train_questions = subjqa_train['question']\n",
        "subjqa_train_contexts = subjqa_train['context']\n",
        "subjqa_train_answers = subjqa_train['answers']\n",
        "subjqa_train_answers_text = [answer['text'] for answer in subjqa_train_answers]\n",
        "train_labels = [1 for text in subjqa_train_answers_text]\n",
        "print(subjqa_train_answers_text)\n",
        "print(train_labels)"
      ]
    },
    {
      "cell_type": "code",
      "execution_count": 168,
      "metadata": {
        "colab": {
          "base_uri": "https://localhost:8080/"
        },
        "id": "8hX883KTgF0t",
        "outputId": "8d025533-ce62-4688-a3f5-99deaef92dd8"
      },
      "outputs": [
        {
          "output_type": "execute_result",
          "data": {
            "text/plain": [
              "1295"
            ]
          },
          "metadata": {},
          "execution_count": 168
        }
      ],
      "source": [
        "len(subjqa_train_questions)"
      ]
    },
    {
      "cell_type": "code",
      "execution_count": 169,
      "metadata": {
        "id": "PFX-7T7HgPy5"
      },
      "outputs": [],
      "source": [
        "# create negative examples\n",
        "NUM_NEGATIVE_EXAMPLES = 5\n",
        "\n",
        "import numpy as np\n",
        "\n",
        "all_train_questions = []\n",
        "all_train_contexts = []\n",
        "all_train_labels = []\n",
        "\n",
        "all_training_samples = list(range(len(subjqa_train_questions)))\n",
        "for i in range(len(subjqa_train_questions)):\n",
        "  all_training_samples_except_this = all_training_samples.copy()\n",
        "  all_training_samples_except_this.remove(i)\n",
        "  sample_negative_examples_idx = np.random.choice(all_training_samples_except_this, NUM_NEGATIVE_EXAMPLES)\n",
        "\n",
        "  # add positive example\n",
        "  all_train_questions.append(subjqa_train_questions[i])\n",
        "  all_train_contexts.append(subjqa_train_contexts[i])\n",
        "  all_train_labels.append(1)\n",
        "\n",
        "  # add negative examples\n",
        "  for idx in sample_negative_examples_idx:\n",
        "    all_train_questions.append(subjqa_train_questions[i])\n",
        "    all_train_contexts.append(subjqa_train_contexts[idx])\n",
        "    all_train_labels.append(0)\n"
      ]
    },
    {
      "cell_type": "code",
      "execution_count": 170,
      "metadata": {
        "id": "_gr2Ne4qYIPI"
      },
      "outputs": [],
      "source": [
        "# training data loader\n",
        "from sentence_transformers import InputExample\n",
        "train_samples = [InputExample(texts=[question, context], label=label) for question, context, label in zip(all_train_questions, all_train_contexts, all_train_labels)]\n",
        "\n",
        "from torch.utils.data import DataLoader\n",
        "train_dataloader = DataLoader(train_samples, shuffle=True, batch_size=16)"
      ]
    },
    {
      "cell_type": "code",
      "execution_count": 171,
      "metadata": {
        "id": "vm3mzVBHZIHZ"
      },
      "outputs": [],
      "source": [
        "# evaluator\n",
        "from sentence_transformers.cross_encoder.evaluation import CEBinaryClassificationEvaluator\n",
        "\n",
        "subjqa_validation = subjqa['validation']\n",
        "subjqa_validation_questions = subjqa_validation['question']\n",
        "subjqa_validation_contexts = subjqa_validation['context']\n",
        "subjqa_validation_answers = subjqa_validation['answers']"
      ]
    },
    {
      "cell_type": "code",
      "execution_count": 172,
      "metadata": {
        "id": "JAxgvYBjrEKG"
      },
      "outputs": [],
      "source": [
        "# create negative examples\n",
        "NUM_NEGATIVE_EXAMPLES = 5\n",
        "\n",
        "import numpy as np\n",
        "\n",
        "all_val_questions = []\n",
        "all_val_contexts = []\n",
        "all_val_labels = []\n",
        "\n",
        "all_val_samples = list(range(len(subjqa_validation_questions)))\n",
        "for i in range(len(subjqa_validation_questions)):\n",
        "  all_val_samples_except_this = all_val_samples.copy()\n",
        "  all_val_samples_except_this.remove(i)\n",
        "  sample_negative_examples_idx = np.random.choice(all_val_samples_except_this, NUM_NEGATIVE_EXAMPLES)\n",
        "\n",
        "  # add positive example\n",
        "  all_val_questions.append(subjqa_validation_questions[i])\n",
        "  all_val_contexts.append(subjqa_validation_contexts[i])\n",
        "  all_val_labels.append(1)\n",
        "\n",
        "  # add negative examples\n",
        "  for idx in sample_negative_examples_idx:\n",
        "    all_val_questions.append(subjqa_validation_questions[i])\n",
        "    all_val_contexts.append(subjqa_validation_contexts[idx])\n",
        "    all_val_labels.append(0)"
      ]
    },
    {
      "cell_type": "code",
      "execution_count": 173,
      "metadata": {
        "id": "wcQKvNkEr0fm"
      },
      "outputs": [],
      "source": [
        "evaluator = CEBinaryClassificationEvaluator(list(zip(all_val_questions, all_val_contexts)), all_val_labels)"
      ]
    },
    {
      "cell_type": "code",
      "execution_count": 174,
      "metadata": {
        "id": "84oA75_LSlPM"
      },
      "outputs": [],
      "source": [
        "all_learning_rates = [1e-4]#[1e-1, 1e-2, 1e-3, 1e-4]\n",
        "all_weight_decays = [1e-3]#[1e-4, 1e-5, 1e-3, 0]"
      ]
    },
    {
      "cell_type": "code",
      "execution_count": null,
      "metadata": {
        "id": "28WIXm26ReTx"
      },
      "outputs": [],
      "source": [
        "# train model (hyperparameter search)\n",
        "model_scores = {}\n",
        "for learning_rate in all_learning_rates:\n",
        "  for weight_decay in all_weight_decays:\n",
        "    output_path = f\"gdrive/My Drive/DS405B_NLP/assignment_4/cross_encoder_lr={learning_rate}_wd={weight_decay}\"\n",
        "\n",
        "    # try:  # if the model with these hyperparameters already exists, load it\n",
        "    #   cross_encoder = CrossEncoder(output_path)\n",
        "    #   model_score = evaluator(cross_encoder)\n",
        "    #   model_scores[model_score] = cross_encoder\n",
        "\n",
        "    # except: # else, train the model\n",
        "      # print()\n",
        "    epochs = 1\n",
        "    cross_encoder = CrossEncoder(model_name='cross-encoder/ms-marco-MiniLM-L-6-v2', num_labels=1, max_length=512, device='cuda')\n",
        "    cross_encoder.fit(train_dataloader=train_dataloader,\n",
        "                      evaluator=evaluator,\n",
        "                      epochs=epochs,\n",
        "                      warmup_steps=int(len(train_dataloader)*epochs*0.1),\n",
        "                      evaluation_steps=500, \n",
        "                      output_path=output_path,\n",
        "                      weight_decay=weight_decay,\n",
        "                      optimizer_params={'lr': learning_rate},\n",
        "                      save_best_model=True)\n",
        "    model_score = cross_encoder.best_score\n",
        "    model_scores[model_score] = cross_encoder"
      ]
    },
    {
      "cell_type": "code",
      "execution_count": 176,
      "metadata": {
        "colab": {
          "base_uri": "https://localhost:8080/"
        },
        "id": "olQGs5Ed9zXc",
        "outputId": "88f26b17-a998-4627-8eb4-ac5d8c10ccc2"
      },
      "outputs": [
        {
          "output_type": "execute_result",
          "data": {
            "text/plain": [
              "{0.5872435424661342: <sentence_transformers.cross_encoder.CrossEncoder.CrossEncoder at 0x7f6caa5ec040>}"
            ]
          },
          "metadata": {},
          "execution_count": 176
        }
      ],
      "source": [
        "model_scores"
      ]
    },
    {
      "cell_type": "code",
      "execution_count": 177,
      "metadata": {
        "id": "sWBqy0B6Vuz5"
      },
      "outputs": [],
      "source": [
        "# select the model with the highest score\n",
        "best_model_score = max(model_scores)\n",
        "best_cross_encoder = model_scores[best_model_score]"
      ]
    },
    {
      "cell_type": "code",
      "execution_count": 178,
      "metadata": {
        "colab": {
          "base_uri": "https://localhost:8080/"
        },
        "id": "kVy9wuWst1vH",
        "outputId": "e907ad91-e6fd-4170-c1b5-28c7f0488f56"
      },
      "outputs": [
        {
          "output_type": "execute_result",
          "data": {
            "text/plain": [
              "0"
            ]
          },
          "metadata": {},
          "execution_count": 178
        }
      ],
      "source": [
        "np.argmax(model_scores)"
      ]
    },
    {
      "cell_type": "code",
      "execution_count": null,
      "metadata": {
        "id": "IAxBV5ZuA3n8"
      },
      "outputs": [],
      "source": [
        "cross_encoder_pretrained = CrossEncoder(model_name='cross-encoder/ms-marco-MiniLM-L-6-v2', max_length=512)\n",
        "pretrained_score = evaluator(cross_encoder_pretrained)\n",
        "print(\"evaluation score of pre-trained model: \", pretrained_score)\n",
        "print('evaluation score of best model after fine-tuning: ', best_model_score)"
      ]
    },
    {
      "cell_type": "markdown",
      "metadata": {
        "id": "m3__NWwDlvut"
      },
      "source": [
        "Evaluate Cross-Encoder"
      ]
    },
    {
      "cell_type": "code",
      "execution_count": 180,
      "metadata": {
        "colab": {
          "base_uri": "https://localhost:8080/",
          "height": 49,
          "referenced_widgets": [
            "9aafb40167ad46449db9195d4f8d8428",
            "6526c3761bcf4102b3f5e69724b42532",
            "c95b3eb1e1f74291bb9319d6ddfd2952",
            "3f7d075b75ab461e8eedb4cf9636273a",
            "28df0fdc22c94d84b25b075c4f889959",
            "56f03373877c498fbc82d3d8c39334fa",
            "5327b3e2cc7240bba1bfc55a8ac7caaa",
            "f5b00cd072b7432c8ef27b5c574c5b8c",
            "cdb2f058c3184a82945c2056d5b3c6ab",
            "f4ef2fd3491e4ffa827112537b6d2151",
            "8bd1f10767ab44709f9e015a26ff9380"
          ]
        },
        "id": "sdRAz5Kdlq3f",
        "outputId": "d8acf7a6-c3fe-45e6-dacf-e58fc31ce5a6"
      },
      "outputs": [
        {
          "output_type": "display_data",
          "data": {
            "text/plain": [
              "  0%|          | 0/358 [00:00<?, ?it/s]"
            ],
            "application/vnd.jupyter.widget-view+json": {
              "version_major": 2,
              "version_minor": 0,
              "model_id": "9aafb40167ad46449db9195d4f8d8428"
            }
          },
          "metadata": {}
        }
      ],
      "source": [
        "all_k = (1, 3, 5, 10, 20, 40, 80, 100)\n",
        "\n",
        "recalls = {}\n",
        "for k in all_k:\n",
        "  recalls[k] = []\n",
        "\n",
        "# first retrieve the top k relevant docs for each question using bi-encoder\n",
        "# and then for each value of k, check if the true contexjhjht is present in the \n",
        "# top-k retrieved contexts\n",
        "for test_question_idx in tqdm(range(len(subjqa_test_questions))):\n",
        "  test_question = subjqa_test_questions[test_question_idx]\n",
        "  all_top_idx = retrieveAndReRank(test_question, bi_encoder, best_cross_encoder, context_embeddings, np.max(all_k), 100)\n",
        "\n",
        "  for k in all_k:\n",
        "    top_k_idx = all_top_idx[:k]\n",
        "    if test_question_idx in top_k_idx:\n",
        "      recalls[k].append(1)\n",
        "    else:\n",
        "      recalls[k].append(0)\n",
        "\n",
        "mean_recalls_crossencoder_finetuned = {k: np.mean(recalls[k])*100 for k in all_k}"
      ]
    },
    {
      "cell_type": "code",
      "execution_count": 181,
      "metadata": {
        "colab": {
          "base_uri": "https://localhost:8080/",
          "height": 295
        },
        "id": "gxBFlsBKl9lw",
        "outputId": "87fbe5a1-bb4d-4b16-8d31-3c4f7317807a"
      },
      "outputs": [
        {
          "output_type": "display_data",
          "data": {
            "text/plain": [
              "<Figure size 432x288 with 1 Axes>"
            ],
            "image/png": "[encoded data removed]"
          },
          "metadata": {
            "needs_background": "light"
          }
        }
      ],
      "source": [
        "\n",
        "from matplotlib import pyplot as plt\n",
        "\n",
        "plt.plot(list(mean_recalls_crossencoder_pretrained.keys()), list(mean_recalls_crossencoder_pretrained.values()), marker='o', label='pre-trained cross encoder')\n",
        "plt.plot(list(mean_recalls_crossencoder_finetuned.keys()), list(mean_recalls_crossencoder_finetuned.values()), marker='o', label='fine-tuned cross encoder')\n",
        "plt.xlabel('# Contexts returned by retriever (k)')\n",
        "plt.ylabel(\"Recall %\")\n",
        "plt.title(\"Recall as a function of number of contexts returned by Bi-encoder + Cross-Encoder\")\n",
        "plt.legend()\n",
        "\n",
        "plt.show()"
      ]
    },
    {
      "cell_type": "markdown",
      "source": [
        "# Fine-tuning the reader"
      ],
      "metadata": {
        "id": "5sZHz6ddeTHX"
      }
    },
    {
      "cell_type": "code",
      "source": [
        "from transformers import AutoModelForQuestionAnswering,  AutoTokenizer, pipeline\n",
        "\n",
        "reader_model_name = \"deepset/minilm-uncased-squad2\""
      ],
      "metadata": {
        "id": "77NRqGfaeSdn"
      },
      "execution_count": 182,
      "outputs": []
    },
    {
      "cell_type": "code",
      "execution_count": 183,
      "metadata": {
        "id": "TCWFUbe3aClh"
      },
      "outputs": [],
      "source": [
        "from transformers import AutoModelForQuestionAnswering,  AutoTokenizer, pipeline\n",
        "\n",
        "reader_model_name = \"deepset/minilm-uncased-squad2\"\n",
        "# reader = pipeline('question-answering', model=model_name, tokenizer=model_name)"
      ]
    },
    {
      "cell_type": "code",
      "execution_count": null,
      "metadata": {
        "id": "uJRaSmCMuxjS"
      },
      "outputs": [],
      "source": [
        "from transformers import AutoTokenizer\n",
        "tokenizer = AutoTokenizer.from_pretrained(reader_model_name)"
      ]
    },
    {
      "cell_type": "code",
      "source": [
        "def preprocess_function(examples):\n",
        "    questions = [q.strip() for q in examples[\"question\"]]\n",
        "    inputs = tokenizer(\n",
        "        questions,\n",
        "        examples[\"context\"],\n",
        "        max_length=384,\n",
        "        truncation=\"only_second\",\n",
        "        return_offsets_mapping=True,\n",
        "        padding=\"max_length\",\n",
        "    )\n",
        "\n",
        "    offset_mapping = inputs.pop(\"offset_mapping\")\n",
        "    answers = examples[\"answers\"]\n",
        "    start_positions = []\n",
        "    end_positions = []\n",
        "\n",
        "    for i, offset in enumerate(offset_mapping):\n",
        "        answer = answers[i]\n",
        "        \n",
        "        if len(answer['text']) != 0:\n",
        "          start_char = answer[\"answer_start\"][0]\n",
        "          end_char = answer[\"answer_start\"][0] + len(answer[\"text\"][0])\n",
        "          sequence_ids = inputs.sequence_ids(i)\n",
        "\n",
        "          # Find the start and end of the context\n",
        "          idx = 0\n",
        "          while sequence_ids[idx] != 1:\n",
        "              idx += 1\n",
        "          context_start = idx\n",
        "          while sequence_ids[idx] == 1:\n",
        "              idx += 1\n",
        "          context_end = idx - 1\n",
        "\n",
        "          # If the answer is not fully inside the context, label it (0, 0)\n",
        "          if offset[context_start][0] > end_char or offset[context_end][1] < start_char:\n",
        "              start_positions.append(0)\n",
        "              end_positions.append(0)\n",
        "          else:\n",
        "              # Otherwise it's the start and end token positions\n",
        "              idx = context_start\n",
        "              while idx <= context_end and offset[idx][0] <= start_char:\n",
        "                  idx += 1\n",
        "              start_positions.append(idx - 1)\n",
        "\n",
        "              idx = context_end\n",
        "              while idx >= context_start and offset[idx][1] >= end_char:\n",
        "                  idx -= 1\n",
        "              end_positions.append(idx + 1)\n",
        "        \n",
        "        else:\n",
        "          start_positions.append(0)\n",
        "          end_positions.append(0)\n",
        "\n",
        "    inputs[\"start_positions\"] = start_positions\n",
        "    inputs[\"end_positions\"] = end_positions\n",
        "    return inputs"
      ],
      "metadata": {
        "id": "UgoC2tlPe_qV"
      },
      "execution_count": 185,
      "outputs": []
    },
    {
      "cell_type": "code",
      "source": [
        "tokenized_subjqa = subjqa.map(preprocess_function, batched=True, remove_columns=subjqa[\"train\"].column_names)"
      ],
      "metadata": {
        "colab": {
          "base_uri": "https://localhost:8080/",
          "height": 105,
          "referenced_widgets": [
            "c9fa0d1d78ff424fb40d5196388347e0",
            "63b171908c744decbbbf84d5613d8255",
            "df5fca190f8e43088d0f18c8e46f4a1c",
            "118a6104c9db4a4cbd2ac1f780d58d87",
            "07c7d7669d1e47d0829f4e3df262b4c8",
            "de7658bc8e2d406db86ed4170d692cff",
            "0ce6eae066a24747b5f2caa91a591a58",
            "b52830447c5e45f1a1bf5f4cd4c8af96",
            "4e9c2afdabe2474fa9fa06e45d5dc2bf",
            "f488d9bbb5b848b4835125ec7fbac8be",
            "e901b9cf0c8f43048450df07519aca34"
          ]
        },
        "id": "ygk-gLMkfBB3",
        "outputId": "2c126808-83d7-4cb8-cd80-4d1565972031"
      },
      "execution_count": 186,
      "outputs": [
        {
          "output_type": "stream",
          "name": "stderr",
          "text": [
            "WARNING:datasets.arrow_dataset:Loading cached processed dataset at /root/.cache/huggingface/datasets/subjqa/electronics/1.1.0/e5588f9298ff2d70686a00cc377e4bdccf4e32287459e3c6baf2dc5ab57fe7fd/cache-2156fa22da1f65f6.arrow\n"
          ]
        },
        {
          "output_type": "display_data",
          "data": {
            "text/plain": [
              "  0%|          | 0/1 [00:00<?, ?ba/s]"
            ],
            "application/vnd.jupyter.widget-view+json": {
              "version_major": 2,
              "version_minor": 0,
              "model_id": "c9fa0d1d78ff424fb40d5196388347e0"
            }
          },
          "metadata": {}
        },
        {
          "output_type": "stream",
          "name": "stderr",
          "text": [
            "WARNING:datasets.arrow_dataset:Loading cached processed dataset at /root/.cache/huggingface/datasets/subjqa/electronics/1.1.0/e5588f9298ff2d70686a00cc377e4bdccf4e32287459e3c6baf2dc5ab57fe7fd/cache-4041b00a4766aa5b.arrow\n"
          ]
        }
      ]
    },
    {
      "cell_type": "code",
      "source": [
        "from transformers import DefaultDataCollator\n",
        "\n",
        "data_collator = DefaultDataCollator()"
      ],
      "metadata": {
        "id": "hbUoHPUph4r1"
      },
      "execution_count": 187,
      "outputs": []
    },
    {
      "cell_type": "code",
      "source": [
        "from transformers import AutoModelForQuestionAnswering, TrainingArguments, Trainer\n",
        "\n",
        "model = AutoModelForQuestionAnswering.from_pretrained(reader_model_name)"
      ],
      "metadata": {
        "id": "KdFd_Bp9iIKe"
      },
      "execution_count": null,
      "outputs": []
    },
    {
      "cell_type": "code",
      "source": [
        "!pip install rouge\n",
        "from rouge import Rouge\n",
        "\n",
        "rouge = Rouge()"
      ],
      "metadata": {
        "id": "9sKkZdjLqLac"
      },
      "execution_count": null,
      "outputs": []
    },
    {
      "cell_type": "code",
      "source": [
        "training_args = TrainingArguments(\n",
        "    output_dir=\"reader_finetuned\",\n",
        "    evaluation_strategy=\"epoch\",\n",
        "    learning_rate=2e-5,\n",
        "    per_device_train_batch_size=16,\n",
        "    per_device_eval_batch_size=16,\n",
        "    num_train_epochs=3,\n",
        "    weight_decay=1e-3,\n",
        "    push_to_hub=False,\n",
        ")\n",
        "\n",
        "trainer = Trainer(\n",
        "    model=model,\n",
        "    args=training_args,\n",
        "    train_dataset=tokenized_subjqa['train'],\n",
        "    eval_dataset=tokenized_subjqa[\"test\"],\n",
        "    tokenizer=tokenizer,\n",
        "    data_collator=data_collator,\n",
        ")\n",
        "\n",
        "trainer.train()"
      ],
      "metadata": {
        "colab": {
          "base_uri": "https://localhost:8080/",
          "height": 690
        },
        "id": "-zcgQdBUiIGj",
        "outputId": "d3076fd7-2368-450b-aecf-3562cb5b3207"
      },
      "execution_count": 190,
      "outputs": [
        {
          "output_type": "stream",
          "name": "stderr",
          "text": [
            "PyTorch: setting up devices\n",
            "The default value for the training argument `--report_to` will change in v5 (from all installed integrations to none). In v5, you will need to use `--report_to all` to get the same behavior as now. You should start updating your code and make this info disappear :-).\n",
            "/usr/local/lib/python3.8/dist-packages/transformers/optimization.py:306: FutureWarning: This implementation of AdamW is deprecated and will be removed in a future version. Use the PyTorch implementation torch.optim.AdamW instead, or set `no_deprecation_warning=True` to disable this warning\n",
            "  warnings.warn(\n",
            "***** Running training *****\n",
            "  Num examples = 1295\n",
            "  Num Epochs = 3\n",
            "  Instantaneous batch size per device = 16\n",
            "  Total train batch size (w. parallel, distributed & accumulation) = 16\n",
            "  Gradient Accumulation steps = 1\n",
            "  Total optimization steps = 243\n",
            "  Number of trainable parameters = 33212930\n"
          ]
        },
        {
          "output_type": "display_data",
          "data": {
            "text/plain": [
              "<IPython.core.display.HTML object>"
            ],
            "text/html": [
              "\n",
              "    <div>\n",
              "      \n",
              "      <progress value='243' max='243' style='width:300px; height:20px; vertical-align: middle;'></progress>\n",
              "      [243/243 01:57, Epoch 3/3]\n",
              "    </div>\n",
              "    <table border=\"1\" class=\"dataframe\">\n",
              "  <thead>\n",
              " <tr style=\"text-align: left;\">\n",
              "      <th>Epoch</th>\n",
              "      <th>Training Loss</th>\n",
              "      <th>Validation Loss</th>\n",
              "    </tr>\n",
              "  </thead>\n",
              "  <tbody>\n",
              "    <tr>\n",
              "      <td>1</td>\n",
              "      <td>No log</td>\n",
              "      <td>2.366412</td>\n",
              "    </tr>\n",
              "    <tr>\n",
              "      <td>2</td>\n",
              "      <td>No log</td>\n",
              "      <td>2.368141</td>\n",
              "    </tr>\n",
              "    <tr>\n",
              "      <td>3</td>\n",
              "      <td>No log</td>\n",
              "      <td>2.404818</td>\n",
              "    </tr>\n",
              "  </tbody>\n",
              "</table><p>"
            ]
          },
          "metadata": {}
        },
        {
          "output_type": "stream",
          "name": "stderr",
          "text": [
            "***** Running Evaluation *****\n",
            "  Num examples = 358\n",
            "  Batch size = 16\n",
            "***** Running Evaluation *****\n",
            "  Num examples = 358\n",
            "  Batch size = 16\n",
            "***** Running Evaluation *****\n",
            "  Num examples = 358\n",
            "  Batch size = 16\n",
            "\n",
            "\n",
            "Training completed. Do not forget to share your model on huggingface.co/models =)\n",
            "\n",
            "\n"
          ]
        },
        {
          "output_type": "execute_result",
          "data": {
            "text/plain": [
              "TrainOutput(global_step=243, training_loss=2.11413071871785, metrics={'train_runtime': 118.2866, 'train_samples_per_second': 32.844, 'train_steps_per_second': 2.054, 'total_flos': 190613345610240.0, 'train_loss': 2.11413071871785, 'epoch': 3.0})"
            ]
          },
          "metadata": {},
          "execution_count": 190
        }
      ]
    },
    {
      "cell_type": "markdown",
      "source": [
        "Evaluating pre-trained reader"
      ],
      "metadata": {
        "id": "BGoQ-7d96-fl"
      }
    },
    {
      "cell_type": "code",
      "source": [
        "from transformers import pipeline\n",
        "\n",
        "qa = pipeline(\n",
        "    'question-answering',\n",
        "    model=\"deepset/minilm-uncased-squad2\",\n",
        "    tokenizer=tokenizer,\n",
        "    device=0\n",
        ")"
      ],
      "metadata": {
        "id": "pBfZSaEwiIDx"
      },
      "execution_count": null,
      "outputs": []
    },
    {
      "cell_type": "code",
      "source": [
        "scores = []\n",
        "\n",
        "for i in tqdm(range(len(subjqa_test))):\n",
        "    out = qa({'question': subjqa_test['question'][i],\n",
        "              'context': subjqa_test['context'][i]}\n",
        "        )\n",
        "    pred_answer = out['answer']\n",
        "\n",
        "    true_answers = subjqa_test['answers'][i]['text']    \n",
        "    # no true answer\n",
        "    if len(true_answers) == 0:\n",
        "      if len(pred_answer) == 0:\n",
        "        scores.append(1)\n",
        "      else:\n",
        "        scores.append(0)\n",
        "\n",
        "    # true answers exist\n",
        "    else:\n",
        "      temp = []\n",
        "      for true_answer in true_answers:\n",
        "        temp.append(rouge.get_scores(pred_answer, true_answer)[0]['rouge-1']['f'])\n",
        "      \n",
        "      scores.append(max(temp))"
      ],
      "metadata": {
        "colab": {
          "base_uri": "https://localhost:8080/",
          "height": 105,
          "referenced_widgets": [
            "6a64e699aba440848689045af17987d7",
            "6aafc7dd36974282a8095b06d9d8bb37",
            "348c3585de3c4357b1be8a76c41da73d",
            "2cef57d87d7d4b2e92ed29692469dacc",
            "8040c43d7d7a4e3698704aa94642350d",
            "1f86eb74b1bb471d837160929fcbbb0d",
            "18fa003786324b118241074c27dc82d5",
            "101d6c1523db4c8d877a88c90bdede23",
            "ab3b9b339d9e404bb93b4ee0bcd2e61f",
            "e644db9ba4ed44e6ac450345c22db168",
            "7d971d01ef7946169057b0a5d8a33bc5"
          ]
        },
        "id": "DwDatXT1smzG",
        "outputId": "d5e383e1-37e9-453c-a424-fb6777fd590b"
      },
      "execution_count": 192,
      "outputs": [
        {
          "output_type": "display_data",
          "data": {
            "text/plain": [
              "  0%|          | 0/358 [00:00<?, ?it/s]"
            ],
            "application/vnd.jupyter.widget-view+json": {
              "version_major": 2,
              "version_minor": 0,
              "model_id": "6a64e699aba440848689045af17987d7"
            }
          },
          "metadata": {}
        },
        {
          "output_type": "stream",
          "name": "stderr",
          "text": [
            "/usr/local/lib/python3.8/dist-packages/transformers/pipelines/base.py:1045: UserWarning: You seem to be using the pipelines sequentially on GPU. In order to maximize efficiency please use a dataset\n",
            "  warnings.warn(\n"
          ]
        }
      ]
    },
    {
      "cell_type": "code",
      "source": [
        "print('F-1 Score of pre-trained reader model', np.mean(scores))"
      ],
      "metadata": {
        "colab": {
          "base_uri": "https://localhost:8080/"
        },
        "id": "A_9X638P3jSt",
        "outputId": "90cd328c-a0f0-4851-abd3-155a9a040d47"
      },
      "execution_count": 193,
      "outputs": [
        {
          "output_type": "stream",
          "name": "stdout",
          "text": [
            "F-1 Score of pre-trained reader model 0.12699941273429263\n"
          ]
        }
      ]
    },
    {
      "cell_type": "markdown",
      "source": [
        "Evaluating finetuned reader"
      ],
      "metadata": {
        "id": "ZptNfuAp7GiD"
      }
    },
    {
      "cell_type": "code",
      "source": [
        "from transformers import pipeline\n",
        "\n",
        "qa = pipeline(\n",
        "    'question-answering',\n",
        "    model=model,\n",
        "    tokenizer=tokenizer,\n",
        "    device=0\n",
        ")"
      ],
      "metadata": {
        "id": "rHZL7qUc7NNE"
      },
      "execution_count": 194,
      "outputs": []
    },
    {
      "cell_type": "code",
      "source": [
        "scores = []\n",
        "\n",
        "for i in tqdm(range(len(subjqa_test))):\n",
        "    out = qa({'question': subjqa_test['question'][i],\n",
        "              'context': subjqa_test['context'][i]}\n",
        "        )\n",
        "    pred_answer = out['answer']\n",
        "\n",
        "    true_answers = subjqa_test['answers'][i]['text']    \n",
        "    # no true answer\n",
        "    if len(true_answers) == 0:\n",
        "      if len(pred_answer) == 0:\n",
        "        scores.append(1)\n",
        "      else:\n",
        "        scores.append(0)\n",
        "\n",
        "    # true answers exist\n",
        "    else:\n",
        "      temp = []\n",
        "      for true_answer in true_answers:\n",
        "        temp.append(rouge.get_scores(pred_answer, true_answer)[0]['rouge-1']['f'])\n",
        "      \n",
        "      scores.append(max(temp))"
      ],
      "metadata": {
        "colab": {
          "base_uri": "https://localhost:8080/",
          "height": 49,
          "referenced_widgets": [
            "4d57af858ae64c6aafb23f0511833929",
            "1c62ebc31ad441eca8bc90094dfc1938",
            "f8b73d2b0fad49b08c86b623c4c18dc8",
            "db1abd93fd674e4f853a808fe2c79085",
            "4bc82135d9684a5c9ed2846f7961264f",
            "5b5a378cade5464b9dcc0bab0120b57a",
            "c766b00e899c4c5a9f1edf10a4dfa9c4",
            "34a49c85b58b40de918569b9fe964106",
            "d9e225551dc7422da96541878d4885a1",
            "7bff6d630d73429986f5547b01c6c3f5",
            "49f0e236d5b640b790a4cffa279efec6"
          ]
        },
        "outputId": "328cc76e-fbc7-434f-9e5e-61bdb2040c7d",
        "id": "1iTt8ATA7NNE"
      },
      "execution_count": 195,
      "outputs": [
        {
          "output_type": "display_data",
          "data": {
            "text/plain": [
              "  0%|          | 0/358 [00:00<?, ?it/s]"
            ],
            "application/vnd.jupyter.widget-view+json": {
              "version_major": 2,
              "version_minor": 0,
              "model_id": "4d57af858ae64c6aafb23f0511833929"
            }
          },
          "metadata": {}
        }
      ]
    },
    {
      "cell_type": "code",
      "source": [
        "print('F-1 Score of fine-tuned reader model', np.mean(scores))"
      ],
      "metadata": {
        "colab": {
          "base_uri": "https://localhost:8080/"
        },
        "outputId": "476f853d-348d-4c0b-e0cc-b5cee3495689",
        "id": "ua6EZ3Lz7NNE"
      },
      "execution_count": 196,
      "outputs": [
        {
          "output_type": "stream",
          "name": "stdout",
          "text": [
            "F-1 Score of fine-tuned reader model 0.2718378722937531\n"
          ]
        }
      ]
    }
  ],
  "metadata": {
    "accelerator": "GPU",
    "colab": {
      "collapsed_sections": [
        "UmwdN235LblP",
        "oUAT1ac-_k2o",
        "ufTMMGDnNB-v"
      ],
      "provenance": []
    },
    "gpuClass": "standard",
    "kernelspec": {
      "display_name": "Python 3",
      "name": "python3"
    },
    "language_info": {
      "name": "python"
    },
    "widgets": {
      "application/vnd.jupyter.widget-state+json": {
        "83247da511d5450fa80b66e3accf7824": {
          "model_module": "@jupyter-widgets/controls",
          "model_name": "HBoxModel",
          "model_module_version": "1.5.0",
          "state": {
            "_dom_classes": [],
            "_model_module": "@jupyter-widgets/controls",
            "_model_module_version": "1.5.0",
            "_model_name": "HBoxModel",
            "_view_count": null,
            "_view_module": "@jupyter-widgets/controls",
            "_view_module_version": "1.5.0",
            "_view_name": "HBoxView",
            "box_style": "",
            "children": [
              "IPY_MODEL_ca10985d8cb34f8e9ae579b43acbd0ad",
              "IPY_MODEL_623b929c92d14fce8891edbde2d05c8e",
              "IPY_MODEL_a049d329032849c490a623cd304d6adc"
            ],
            "layout": "IPY_MODEL_ab077525889b446db7c5403d32a4b180"
          }
        },
        "ca10985d8cb34f8e9ae579b43acbd0ad": {
          "model_module": "@jupyter-widgets/controls",
          "model_name": "HTMLModel",
          "model_module_version": "1.5.0",
          "state": {
            "_dom_classes": [],
            "_model_module": "@jupyter-widgets/controls",
            "_model_module_version": "1.5.0",
            "_model_name": "HTMLModel",
            "_view_count": null,
            "_view_module": "@jupyter-widgets/controls",
            "_view_module_version": "1.5.0",
            "_view_name": "HTMLView",
            "description": "",
            "description_tooltip": null,
            "layout": "IPY_MODEL_93d74a3332314abab464a165612d8f7e",
            "placeholder": "​",
            "style": "IPY_MODEL_969eca3507e14d4d983e1a4b0c6c9035",
            "value": "100%"
          }
        },
        "623b929c92d14fce8891edbde2d05c8e": {
          "model_module": "@jupyter-widgets/controls",
          "model_name": "FloatProgressModel",
          "model_module_version": "1.5.0",
          "state": {
            "_dom_classes": [],
            "_model_module": "@jupyter-widgets/controls",
            "_model_module_version": "1.5.0",
            "_model_name": "FloatProgressModel",
            "_view_count": null,
            "_view_module": "@jupyter-widgets/controls",
            "_view_module_version": "1.5.0",
            "_view_name": "ProgressView",
            "bar_style": "success",
            "description": "",
            "description_tooltip": null,
            "layout": "IPY_MODEL_9c8321c5fe554709bad4834708d9ce2b",
            "max": 3,
            "min": 0,
            "orientation": "horizontal",
            "style": "IPY_MODEL_f2a4b32d8e1641b3adecda56db3e8a4c",
            "value": 3
          }
        },
        "a049d329032849c490a623cd304d6adc": {
          "model_module": "@jupyter-widgets/controls",
          "model_name": "HTMLModel",
          "model_module_version": "1.5.0",
          "state": {
            "_dom_classes": [],
            "_model_module": "@jupyter-widgets/controls",
            "_model_module_version": "1.5.0",
            "_model_name": "HTMLModel",
            "_view_count": null,
            "_view_module": "@jupyter-widgets/controls",
            "_view_module_version": "1.5.0",
            "_view_name": "HTMLView",
            "description": "",
            "description_tooltip": null,
            "layout": "IPY_MODEL_a991276f6e3c4185b849074c35f2ac5a",
            "placeholder": "​",
            "style": "IPY_MODEL_1688d51d064a4376a17acf8ba8a841f1",
            "value": " 3/3 [00:00&lt;00:00, 100.19it/s]"
          }
        },
        "ab077525889b446db7c5403d32a4b180": {
          "model_module": "@jupyter-widgets/base",
          "model_name": "LayoutModel",
          "model_module_version": "1.2.0",
          "state": {
            "_model_module": "@jupyter-widgets/base",
            "_model_module_version": "1.2.0",
            "_model_name": "LayoutModel",
            "_view_count": null,
            "_view_module": "@jupyter-widgets/base",
            "_view_module_version": "1.2.0",
            "_view_name": "LayoutView",
            "align_content": null,
            "align_items": null,
            "align_self": null,
            "border": null,
            "bottom": null,
            "display": null,
            "flex": null,
            "flex_flow": null,
            "grid_area": null,
            "grid_auto_columns": null,
            "grid_auto_flow": null,
            "grid_auto_rows": null,
            "grid_column": null,
            "grid_gap": null,
            "grid_row": null,
            "grid_template_areas": null,
            "grid_template_columns": null,
            "grid_template_rows": null,
            "height": null,
            "justify_content": null,
            "justify_items": null,
            "left": null,
            "margin": null,
            "max_height": null,
            "max_width": null,
            "min_height": null,
            "min_width": null,
            "object_fit": null,
            "object_position": null,
            "order": null,
            "overflow": null,
            "overflow_x": null,
            "overflow_y": null,
            "padding": null,
            "right": null,
            "top": null,
            "visibility": null,
            "width": null
          }
        },
        "93d74a3332314abab464a165612d8f7e": {
          "model_module": "@jupyter-widgets/base",
          "model_name": "LayoutModel",
          "model_module_version": "1.2.0",
          "state": {
            "_model_module": "@jupyter-widgets/base",
            "_model_module_version": "1.2.0",
            "_model_name": "LayoutModel",
            "_view_count": null,
            "_view_module": "@jupyter-widgets/base",
            "_view_module_version": "1.2.0",
            "_view_name": "LayoutView",
            "align_content": null,
            "align_items": null,
            "align_self": null,
            "border": null,
            "bottom": null,
            "display": null,
            "flex": null,
            "flex_flow": null,
            "grid_area": null,
            "grid_auto_columns": null,
            "grid_auto_flow": null,
            "grid_auto_rows": null,
            "grid_column": null,
            "grid_gap": null,
            "grid_row": null,
            "grid_template_areas": null,
            "grid_template_columns": null,
            "grid_template_rows": null,
            "height": null,
            "justify_content": null,
            "justify_items": null,
            "left": null,
            "margin": null,
            "max_height": null,
            "max_width": null,
            "min_height": null,
            "min_width": null,
            "object_fit": null,
            "object_position": null,
            "order": null,
            "overflow": null,
            "overflow_x": null,
            "overflow_y": null,
            "padding": null,
            "right": null,
            "top": null,
            "visibility": null,
            "width": null
          }
        },
        "969eca3507e14d4d983e1a4b0c6c9035": {
          "model_module": "@jupyter-widgets/controls",
          "model_name": "DescriptionStyleModel",
          "model_module_version": "1.5.0",
          "state": {
            "_model_module": "@jupyter-widgets/controls",
            "_model_module_version": "1.5.0",
            "_model_name": "DescriptionStyleModel",
            "_view_count": null,
            "_view_module": "@jupyter-widgets/base",
            "_view_module_version": "1.2.0",
            "_view_name": "StyleView",
            "description_width": ""
          }
        },
        "9c8321c5fe554709bad4834708d9ce2b": {
          "model_module": "@jupyter-widgets/base",
          "model_name": "LayoutModel",
          "model_module_version": "1.2.0",
          "state": {
            "_model_module": "@jupyter-widgets/base",
            "_model_module_version": "1.2.0",
            "_model_name": "LayoutModel",
            "_view_count": null,
            "_view_module": "@jupyter-widgets/base",
            "_view_module_version": "1.2.0",
            "_view_name": "LayoutView",
            "align_content": null,
            "align_items": null,
            "align_self": null,
            "border": null,
            "bottom": null,
            "display": null,
            "flex": null,
            "flex_flow": null,
            "grid_area": null,
            "grid_auto_columns": null,
            "grid_auto_flow": null,
            "grid_auto_rows": null,
            "grid_column": null,
            "grid_gap": null,
            "grid_row": null,
            "grid_template_areas": null,
            "grid_template_columns": null,
            "grid_template_rows": null,
            "height": null,
            "justify_content": null,
            "justify_items": null,
            "left": null,
            "margin": null,
            "max_height": null,
            "max_width": null,
            "min_height": null,
            "min_width": null,
            "object_fit": null,
            "object_position": null,
            "order": null,
            "overflow": null,
            "overflow_x": null,
            "overflow_y": null,
            "padding": null,
            "right": null,
            "top": null,
            "visibility": null,
            "width": null
          }
        },
        "f2a4b32d8e1641b3adecda56db3e8a4c": {
          "model_module": "@jupyter-widgets/controls",
          "model_name": "ProgressStyleModel",
          "model_module_version": "1.5.0",
          "state": {
            "_model_module": "@jupyter-widgets/controls",
            "_model_module_version": "1.5.0",
            "_model_name": "ProgressStyleModel",
            "_view_count": null,
            "_view_module": "@jupyter-widgets/base",
            "_view_module_version": "1.2.0",
            "_view_name": "StyleView",
            "bar_color": null,
            "description_width": ""
          }
        },
        "a991276f6e3c4185b849074c35f2ac5a": {
          "model_module": "@jupyter-widgets/base",
          "model_name": "LayoutModel",
          "model_module_version": "1.2.0",
          "state": {
            "_model_module": "@jupyter-widgets/base",
            "_model_module_version": "1.2.0",
            "_model_name": "LayoutModel",
            "_view_count": null,
            "_view_module": "@jupyter-widgets/base",
            "_view_module_version": "1.2.0",
            "_view_name": "LayoutView",
            "align_content": null,
            "align_items": null,
            "align_self": null,
            "border": null,
            "bottom": null,
            "display": null,
            "flex": null,
            "flex_flow": null,
            "grid_area": null,
            "grid_auto_columns": null,
            "grid_auto_flow": null,
            "grid_auto_rows": null,
            "grid_column": null,
            "grid_gap": null,
            "grid_row": null,
            "grid_template_areas": null,
            "grid_template_columns": null,
            "grid_template_rows": null,
            "height": null,
            "justify_content": null,
            "justify_items": null,
            "left": null,
            "margin": null,
            "max_height": null,
            "max_width": null,
            "min_height": null,
            "min_width": null,
            "object_fit": null,
            "object_position": null,
            "order": null,
            "overflow": null,
            "overflow_x": null,
            "overflow_y": null,
            "padding": null,
            "right": null,
            "top": null,
            "visibility": null,
            "width": null
          }
        },
        "1688d51d064a4376a17acf8ba8a841f1": {
          "model_module": "@jupyter-widgets/controls",
          "model_name": "DescriptionStyleModel",
          "model_module_version": "1.5.0",
          "state": {
            "_model_module": "@jupyter-widgets/controls",
            "_model_module_version": "1.5.0",
            "_model_name": "DescriptionStyleModel",
            "_view_count": null,
            "_view_module": "@jupyter-widgets/base",
            "_view_module_version": "1.2.0",
            "_view_name": "StyleView",
            "description_width": ""
          }
        },
        "a98edcc922684ca1af9d388d72be0a1e": {
          "model_module": "@jupyter-widgets/controls",
          "model_name": "HBoxModel",
          "model_module_version": "1.5.0",
          "state": {
            "_dom_classes": [],
            "_model_module": "@jupyter-widgets/controls",
            "_model_module_version": "1.5.0",
            "_model_name": "HBoxModel",
            "_view_count": null,
            "_view_module": "@jupyter-widgets/controls",
            "_view_module_version": "1.5.0",
            "_view_name": "HBoxView",
            "box_style": "",
            "children": [
              "IPY_MODEL_dbf83d5aa4ce49d9b6f54b9698e15fd4",
              "IPY_MODEL_0356db7943c3484daff5fa8037982061",
              "IPY_MODEL_fc65b96ed5904b5182da41fd1038877e"
            ],
            "layout": "IPY_MODEL_e04c43e6bc654abaa789f6dfa07a3c6b"
          }
        },
        "dbf83d5aa4ce49d9b6f54b9698e15fd4": {
          "model_module": "@jupyter-widgets/controls",
          "model_name": "HTMLModel",
          "model_module_version": "1.5.0",
          "state": {
            "_dom_classes": [],
            "_model_module": "@jupyter-widgets/controls",
            "_model_module_version": "1.5.0",
            "_model_name": "HTMLModel",
            "_view_count": null,
            "_view_module": "@jupyter-widgets/controls",
            "_view_module_version": "1.5.0",
            "_view_name": "HTMLView",
            "description": "",
            "description_tooltip": null,
            "layout": "IPY_MODEL_cbdf22b8becd4de59a77a3f631ffec70",
            "placeholder": "​",
            "style": "IPY_MODEL_cbacd140c19f4a57a130d1a01c9ea4df",
            "value": "100%"
          }
        },
        "0356db7943c3484daff5fa8037982061": {
          "model_module": "@jupyter-widgets/controls",
          "model_name": "FloatProgressModel",
          "model_module_version": "1.5.0",
          "state": {
            "_dom_classes": [],
            "_model_module": "@jupyter-widgets/controls",
            "_model_module_version": "1.5.0",
            "_model_name": "FloatProgressModel",
            "_view_count": null,
            "_view_module": "@jupyter-widgets/controls",
            "_view_module_version": "1.5.0",
            "_view_name": "ProgressView",
            "bar_style": "success",
            "description": "",
            "description_tooltip": null,
            "layout": "IPY_MODEL_513dd5ebcad04ba6b9d3c0e0cee60817",
            "max": 1295,
            "min": 0,
            "orientation": "horizontal",
            "style": "IPY_MODEL_6a13c0c77bbe4235a39f032dd4b30b72",
            "value": 1295
          }
        },
        "fc65b96ed5904b5182da41fd1038877e": {
          "model_module": "@jupyter-widgets/controls",
          "model_name": "HTMLModel",
          "model_module_version": "1.5.0",
          "state": {
            "_dom_classes": [],
            "_model_module": "@jupyter-widgets/controls",
            "_model_module_version": "1.5.0",
            "_model_name": "HTMLModel",
            "_view_count": null,
            "_view_module": "@jupyter-widgets/controls",
            "_view_module_version": "1.5.0",
            "_view_name": "HTMLView",
            "description": "",
            "description_tooltip": null,
            "layout": "IPY_MODEL_7e2b99e6fd764f74842f8b54c0bb2f3c",
            "placeholder": "​",
            "style": "IPY_MODEL_26d16e6b53e44122aef400c60372b304",
            "value": " 1295/1295 [00:00&lt;00:00, 3900.65it/s]"
          }
        },
        "e04c43e6bc654abaa789f6dfa07a3c6b": {
          "model_module": "@jupyter-widgets/base",
          "model_name": "LayoutModel",
          "model_module_version": "1.2.0",
          "state": {
            "_model_module": "@jupyter-widgets/base",
            "_model_module_version": "1.2.0",
            "_model_name": "LayoutModel",
            "_view_count": null,
            "_view_module": "@jupyter-widgets/base",
            "_view_module_version": "1.2.0",
            "_view_name": "LayoutView",
            "align_content": null,
            "align_items": null,
            "align_self": null,
            "border": null,
            "bottom": null,
            "display": null,
            "flex": null,
            "flex_flow": null,
            "grid_area": null,
            "grid_auto_columns": null,
            "grid_auto_flow": null,
            "grid_auto_rows": null,
            "grid_column": null,
            "grid_gap": null,
            "grid_row": null,
            "grid_template_areas": null,
            "grid_template_columns": null,
            "grid_template_rows": null,
            "height": null,
            "justify_content": null,
            "justify_items": null,
            "left": null,
            "margin": null,
            "max_height": null,
            "max_width": null,
            "min_height": null,
            "min_width": null,
            "object_fit": null,
            "object_position": null,
            "order": null,
            "overflow": null,
            "overflow_x": null,
            "overflow_y": null,
            "padding": null,
            "right": null,
            "top": null,
            "visibility": null,
            "width": null
          }
        },
        "cbdf22b8becd4de59a77a3f631ffec70": {
          "model_module": "@jupyter-widgets/base",
          "model_name": "LayoutModel",
          "model_module_version": "1.2.0",
          "state": {
            "_model_module": "@jupyter-widgets/base",
            "_model_module_version": "1.2.0",
            "_model_name": "LayoutModel",
            "_view_count": null,
            "_view_module": "@jupyter-widgets/base",
            "_view_module_version": "1.2.0",
            "_view_name": "LayoutView",
            "align_content": null,
            "align_items": null,
            "align_self": null,
            "border": null,
            "bottom": null,
            "display": null,
            "flex": null,
            "flex_flow": null,
            "grid_area": null,
            "grid_auto_columns": null,
            "grid_auto_flow": null,
            "grid_auto_rows": null,
            "grid_column": null,
            "grid_gap": null,
            "grid_row": null,
            "grid_template_areas": null,
            "grid_template_columns": null,
            "grid_template_rows": null,
            "height": null,
            "justify_content": null,
            "justify_items": null,
            "left": null,
            "margin": null,
            "max_height": null,
            "max_width": null,
            "min_height": null,
            "min_width": null,
            "object_fit": null,
            "object_position": null,
            "order": null,
            "overflow": null,
            "overflow_x": null,
            "overflow_y": null,
            "padding": null,
            "right": null,
            "top": null,
            "visibility": null,
            "width": null
          }
        },
        "cbacd140c19f4a57a130d1a01c9ea4df": {
          "model_module": "@jupyter-widgets/controls",
          "model_name": "DescriptionStyleModel",
          "model_module_version": "1.5.0",
          "state": {
            "_model_module": "@jupyter-widgets/controls",
            "_model_module_version": "1.5.0",
            "_model_name": "DescriptionStyleModel",
            "_view_count": null,
            "_view_module": "@jupyter-widgets/base",
            "_view_module_version": "1.2.0",
            "_view_name": "StyleView",
            "description_width": ""
          }
        },
        "513dd5ebcad04ba6b9d3c0e0cee60817": {
          "model_module": "@jupyter-widgets/base",
          "model_name": "LayoutModel",
          "model_module_version": "1.2.0",
          "state": {
            "_model_module": "@jupyter-widgets/base",
            "_model_module_version": "1.2.0",
            "_model_name": "LayoutModel",
            "_view_count": null,
            "_view_module": "@jupyter-widgets/base",
            "_view_module_version": "1.2.0",
            "_view_name": "LayoutView",
            "align_content": null,
            "align_items": null,
            "align_self": null,
            "border": null,
            "bottom": null,
            "display": null,
            "flex": null,
            "flex_flow": null,
            "grid_area": null,
            "grid_auto_columns": null,
            "grid_auto_flow": null,
            "grid_auto_rows": null,
            "grid_column": null,
            "grid_gap": null,
            "grid_row": null,
            "grid_template_areas": null,
            "grid_template_columns": null,
            "grid_template_rows": null,
            "height": null,
            "justify_content": null,
            "justify_items": null,
            "left": null,
            "margin": null,
            "max_height": null,
            "max_width": null,
            "min_height": null,
            "min_width": null,
            "object_fit": null,
            "object_position": null,
            "order": null,
            "overflow": null,
            "overflow_x": null,
            "overflow_y": null,
            "padding": null,
            "right": null,
            "top": null,
            "visibility": null,
            "width": null
          }
        },
        "6a13c0c77bbe4235a39f032dd4b30b72": {
          "model_module": "@jupyter-widgets/controls",
          "model_name": "ProgressStyleModel",
          "model_module_version": "1.5.0",
          "state": {
            "_model_module": "@jupyter-widgets/controls",
            "_model_module_version": "1.5.0",
            "_model_name": "ProgressStyleModel",
            "_view_count": null,
            "_view_module": "@jupyter-widgets/base",
            "_view_module_version": "1.2.0",
            "_view_name": "StyleView",
            "bar_color": null,
            "description_width": ""
          }
        },
        "7e2b99e6fd764f74842f8b54c0bb2f3c": {
          "model_module": "@jupyter-widgets/base",
          "model_name": "LayoutModel",
          "model_module_version": "1.2.0",
          "state": {
            "_model_module": "@jupyter-widgets/base",
            "_model_module_version": "1.2.0",
            "_model_name": "LayoutModel",
            "_view_count": null,
            "_view_module": "@jupyter-widgets/base",
            "_view_module_version": "1.2.0",
            "_view_name": "LayoutView",
            "align_content": null,
            "align_items": null,
            "align_self": null,
            "border": null,
            "bottom": null,
            "display": null,
            "flex": null,
            "flex_flow": null,
            "grid_area": null,
            "grid_auto_columns": null,
            "grid_auto_flow": null,
            "grid_auto_rows": null,
            "grid_column": null,
            "grid_gap": null,
            "grid_row": null,
            "grid_template_areas": null,
            "grid_template_columns": null,
            "grid_template_rows": null,
            "height": null,
            "justify_content": null,
            "justify_items": null,
            "left": null,
            "margin": null,
            "max_height": null,
            "max_width": null,
            "min_height": null,
            "min_width": null,
            "object_fit": null,
            "object_position": null,
            "order": null,
            "overflow": null,
            "overflow_x": null,
            "overflow_y": null,
            "padding": null,
            "right": null,
            "top": null,
            "visibility": null,
            "width": null
          }
        },
        "26d16e6b53e44122aef400c60372b304": {
          "model_module": "@jupyter-widgets/controls",
          "model_name": "DescriptionStyleModel",
          "model_module_version": "1.5.0",
          "state": {
            "_model_module": "@jupyter-widgets/controls",
            "_model_module_version": "1.5.0",
            "_model_name": "DescriptionStyleModel",
            "_view_count": null,
            "_view_module": "@jupyter-widgets/base",
            "_view_module_version": "1.2.0",
            "_view_name": "StyleView",
            "description_width": ""
          }
        },
        "eb8a18602ae04243b23bd18ff0fdefaf": {
          "model_module": "@jupyter-widgets/controls",
          "model_name": "HBoxModel",
          "model_module_version": "1.5.0",
          "state": {
            "_dom_classes": [],
            "_model_module": "@jupyter-widgets/controls",
            "_model_module_version": "1.5.0",
            "_model_name": "HBoxModel",
            "_view_count": null,
            "_view_module": "@jupyter-widgets/controls",
            "_view_module_version": "1.5.0",
            "_view_name": "HBoxView",
            "box_style": "",
            "children": [
              "IPY_MODEL_b7fcc78d5f3640769029c26cc7c86d51",
              "IPY_MODEL_81574060f1db4efeb3efba8f70fa271b",
              "IPY_MODEL_72bdc307daad4bf8b6f3f918fc799d6b"
            ],
            "layout": "IPY_MODEL_864d1136c80948df8534c104082d1569"
          }
        },
        "b7fcc78d5f3640769029c26cc7c86d51": {
          "model_module": "@jupyter-widgets/controls",
          "model_name": "HTMLModel",
          "model_module_version": "1.5.0",
          "state": {
            "_dom_classes": [],
            "_model_module": "@jupyter-widgets/controls",
            "_model_module_version": "1.5.0",
            "_model_name": "HTMLModel",
            "_view_count": null,
            "_view_module": "@jupyter-widgets/controls",
            "_view_module_version": "1.5.0",
            "_view_name": "HTMLView",
            "description": "",
            "description_tooltip": null,
            "layout": "IPY_MODEL_b707830198ad45d986f24790f01dd2a8",
            "placeholder": "​",
            "style": "IPY_MODEL_debb2b40dd444ec3a4b7026bb9bc6403",
            "value": "100%"
          }
        },
        "81574060f1db4efeb3efba8f70fa271b": {
          "model_module": "@jupyter-widgets/controls",
          "model_name": "FloatProgressModel",
          "model_module_version": "1.5.0",
          "state": {
            "_dom_classes": [],
            "_model_module": "@jupyter-widgets/controls",
            "_model_module_version": "1.5.0",
            "_model_name": "FloatProgressModel",
            "_view_count": null,
            "_view_module": "@jupyter-widgets/controls",
            "_view_module_version": "1.5.0",
            "_view_name": "ProgressView",
            "bar_style": "success",
            "description": "",
            "description_tooltip": null,
            "layout": "IPY_MODEL_994ef5aca1d44ba8a04e78cbcede5d15",
            "max": 358,
            "min": 0,
            "orientation": "horizontal",
            "style": "IPY_MODEL_3cd6ee26856b4b50920d525b09695a97",
            "value": 358
          }
        },
        "72bdc307daad4bf8b6f3f918fc799d6b": {
          "model_module": "@jupyter-widgets/controls",
          "model_name": "HTMLModel",
          "model_module_version": "1.5.0",
          "state": {
            "_dom_classes": [],
            "_model_module": "@jupyter-widgets/controls",
            "_model_module_version": "1.5.0",
            "_model_name": "HTMLModel",
            "_view_count": null,
            "_view_module": "@jupyter-widgets/controls",
            "_view_module_version": "1.5.0",
            "_view_name": "HTMLView",
            "description": "",
            "description_tooltip": null,
            "layout": "IPY_MODEL_8d28562e6d2d404d9a28d1c9faf6bff6",
            "placeholder": "​",
            "style": "IPY_MODEL_70be2ee461504359b434475ef2240b5b",
            "value": " 358/358 [05:04&lt;00:00,  1.29it/s]"
          }
        },
        "864d1136c80948df8534c104082d1569": {
          "model_module": "@jupyter-widgets/base",
          "model_name": "LayoutModel",
          "model_module_version": "1.2.0",
          "state": {
            "_model_module": "@jupyter-widgets/base",
            "_model_module_version": "1.2.0",
            "_model_name": "LayoutModel",
            "_view_count": null,
            "_view_module": "@jupyter-widgets/base",
            "_view_module_version": "1.2.0",
            "_view_name": "LayoutView",
            "align_content": null,
            "align_items": null,
            "align_self": null,
            "border": null,
            "bottom": null,
            "display": null,
            "flex": null,
            "flex_flow": null,
            "grid_area": null,
            "grid_auto_columns": null,
            "grid_auto_flow": null,
            "grid_auto_rows": null,
            "grid_column": null,
            "grid_gap": null,
            "grid_row": null,
            "grid_template_areas": null,
            "grid_template_columns": null,
            "grid_template_rows": null,
            "height": null,
            "justify_content": null,
            "justify_items": null,
            "left": null,
            "margin": null,
            "max_height": null,
            "max_width": null,
            "min_height": null,
            "min_width": null,
            "object_fit": null,
            "object_position": null,
            "order": null,
            "overflow": null,
            "overflow_x": null,
            "overflow_y": null,
            "padding": null,
            "right": null,
            "top": null,
            "visibility": null,
            "width": null
          }
        },
        "b707830198ad45d986f24790f01dd2a8": {
          "model_module": "@jupyter-widgets/base",
          "model_name": "LayoutModel",
          "model_module_version": "1.2.0",
          "state": {
            "_model_module": "@jupyter-widgets/base",
            "_model_module_version": "1.2.0",
            "_model_name": "LayoutModel",
            "_view_count": null,
            "_view_module": "@jupyter-widgets/base",
            "_view_module_version": "1.2.0",
            "_view_name": "LayoutView",
            "align_content": null,
            "align_items": null,
            "align_self": null,
            "border": null,
            "bottom": null,
            "display": null,
            "flex": null,
            "flex_flow": null,
            "grid_area": null,
            "grid_auto_columns": null,
            "grid_auto_flow": null,
            "grid_auto_rows": null,
            "grid_column": null,
            "grid_gap": null,
            "grid_row": null,
            "grid_template_areas": null,
            "grid_template_columns": null,
            "grid_template_rows": null,
            "height": null,
            "justify_content": null,
            "justify_items": null,
            "left": null,
            "margin": null,
            "max_height": null,
            "max_width": null,
            "min_height": null,
            "min_width": null,
            "object_fit": null,
            "object_position": null,
            "order": null,
            "overflow": null,
            "overflow_x": null,
            "overflow_y": null,
            "padding": null,
            "right": null,
            "top": null,
            "visibility": null,
            "width": null
          }
        },
        "debb2b40dd444ec3a4b7026bb9bc6403": {
          "model_module": "@jupyter-widgets/controls",
          "model_name": "DescriptionStyleModel",
          "model_module_version": "1.5.0",
          "state": {
            "_model_module": "@jupyter-widgets/controls",
            "_model_module_version": "1.5.0",
            "_model_name": "DescriptionStyleModel",
            "_view_count": null,
            "_view_module": "@jupyter-widgets/base",
            "_view_module_version": "1.2.0",
            "_view_name": "StyleView",
            "description_width": ""
          }
        },
        "994ef5aca1d44ba8a04e78cbcede5d15": {
          "model_module": "@jupyter-widgets/base",
          "model_name": "LayoutModel",
          "model_module_version": "1.2.0",
          "state": {
            "_model_module": "@jupyter-widgets/base",
            "_model_module_version": "1.2.0",
            "_model_name": "LayoutModel",
            "_view_count": null,
            "_view_module": "@jupyter-widgets/base",
            "_view_module_version": "1.2.0",
            "_view_name": "LayoutView",
            "align_content": null,
            "align_items": null,
            "align_self": null,
            "border": null,
            "bottom": null,
            "display": null,
            "flex": null,
            "flex_flow": null,
            "grid_area": null,
            "grid_auto_columns": null,
            "grid_auto_flow": null,
            "grid_auto_rows": null,
            "grid_column": null,
            "grid_gap": null,
            "grid_row": null,
            "grid_template_areas": null,
            "grid_template_columns": null,
            "grid_template_rows": null,
            "height": null,
            "justify_content": null,
            "justify_items": null,
            "left": null,
            "margin": null,
            "max_height": null,
            "max_width": null,
            "min_height": null,
            "min_width": null,
            "object_fit": null,
            "object_position": null,
            "order": null,
            "overflow": null,
            "overflow_x": null,
            "overflow_y": null,
            "padding": null,
            "right": null,
            "top": null,
            "visibility": null,
            "width": null
          }
        },
        "3cd6ee26856b4b50920d525b09695a97": {
          "model_module": "@jupyter-widgets/controls",
          "model_name": "ProgressStyleModel",
          "model_module_version": "1.5.0",
          "state": {
            "_model_module": "@jupyter-widgets/controls",
            "_model_module_version": "1.5.0",
            "_model_name": "ProgressStyleModel",
            "_view_count": null,
            "_view_module": "@jupyter-widgets/base",
            "_view_module_version": "1.2.0",
            "_view_name": "StyleView",
            "bar_color": null,
            "description_width": ""
          }
        },
        "8d28562e6d2d404d9a28d1c9faf6bff6": {
          "model_module": "@jupyter-widgets/base",
          "model_name": "LayoutModel",
          "model_module_version": "1.2.0",
          "state": {
            "_model_module": "@jupyter-widgets/base",
            "_model_module_version": "1.2.0",
            "_model_name": "LayoutModel",
            "_view_count": null,
            "_view_module": "@jupyter-widgets/base",
            "_view_module_version": "1.2.0",
            "_view_name": "LayoutView",
            "align_content": null,
            "align_items": null,
            "align_self": null,
            "border": null,
            "bottom": null,
            "display": null,
            "flex": null,
            "flex_flow": null,
            "grid_area": null,
            "grid_auto_columns": null,
            "grid_auto_flow": null,
            "grid_auto_rows": null,
            "grid_column": null,
            "grid_gap": null,
            "grid_row": null,
            "grid_template_areas": null,
            "grid_template_columns": null,
            "grid_template_rows": null,
            "height": null,
            "justify_content": null,
            "justify_items": null,
            "left": null,
            "margin": null,
            "max_height": null,
            "max_width": null,
            "min_height": null,
            "min_width": null,
            "object_fit": null,
            "object_position": null,
            "order": null,
            "overflow": null,
            "overflow_x": null,
            "overflow_y": null,
            "padding": null,
            "right": null,
            "top": null,
            "visibility": null,
            "width": null
          }
        },
        "70be2ee461504359b434475ef2240b5b": {
          "model_module": "@jupyter-widgets/controls",
          "model_name": "DescriptionStyleModel",
          "model_module_version": "1.5.0",
          "state": {
            "_model_module": "@jupyter-widgets/controls",
            "_model_module_version": "1.5.0",
            "_model_name": "DescriptionStyleModel",
            "_view_count": null,
            "_view_module": "@jupyter-widgets/base",
            "_view_module_version": "1.2.0",
            "_view_name": "StyleView",
            "description_width": ""
          }
        },
        "9aafb40167ad46449db9195d4f8d8428": {
          "model_module": "@jupyter-widgets/controls",
          "model_name": "HBoxModel",
          "model_module_version": "1.5.0",
          "state": {
            "_dom_classes": [],
            "_model_module": "@jupyter-widgets/controls",
            "_model_module_version": "1.5.0",
            "_model_name": "HBoxModel",
            "_view_count": null,
            "_view_module": "@jupyter-widgets/controls",
            "_view_module_version": "1.5.0",
            "_view_name": "HBoxView",
            "box_style": "",
            "children": [
              "IPY_MODEL_6526c3761bcf4102b3f5e69724b42532",
              "IPY_MODEL_c95b3eb1e1f74291bb9319d6ddfd2952",
              "IPY_MODEL_3f7d075b75ab461e8eedb4cf9636273a"
            ],
            "layout": "IPY_MODEL_28df0fdc22c94d84b25b075c4f889959"
          }
        },
        "6526c3761bcf4102b3f5e69724b42532": {
          "model_module": "@jupyter-widgets/controls",
          "model_name": "HTMLModel",
          "model_module_version": "1.5.0",
          "state": {
            "_dom_classes": [],
            "_model_module": "@jupyter-widgets/controls",
            "_model_module_version": "1.5.0",
            "_model_name": "HTMLModel",
            "_view_count": null,
            "_view_module": "@jupyter-widgets/controls",
            "_view_module_version": "1.5.0",
            "_view_name": "HTMLView",
            "description": "",
            "description_tooltip": null,
            "layout": "IPY_MODEL_56f03373877c498fbc82d3d8c39334fa",
            "placeholder": "​",
            "style": "IPY_MODEL_5327b3e2cc7240bba1bfc55a8ac7caaa",
            "value": "100%"
          }
        },
        "c95b3eb1e1f74291bb9319d6ddfd2952": {
          "model_module": "@jupyter-widgets/controls",
          "model_name": "FloatProgressModel",
          "model_module_version": "1.5.0",
          "state": {
            "_dom_classes": [],
            "_model_module": "@jupyter-widgets/controls",
            "_model_module_version": "1.5.0",
            "_model_name": "FloatProgressModel",
            "_view_count": null,
            "_view_module": "@jupyter-widgets/controls",
            "_view_module_version": "1.5.0",
            "_view_name": "ProgressView",
            "bar_style": "success",
            "description": "",
            "description_tooltip": null,
            "layout": "IPY_MODEL_f5b00cd072b7432c8ef27b5c574c5b8c",
            "max": 358,
            "min": 0,
            "orientation": "horizontal",
            "style": "IPY_MODEL_cdb2f058c3184a82945c2056d5b3c6ab",
            "value": 358
          }
        },
        "3f7d075b75ab461e8eedb4cf9636273a": {
          "model_module": "@jupyter-widgets/controls",
          "model_name": "HTMLModel",
          "model_module_version": "1.5.0",
          "state": {
            "_dom_classes": [],
            "_model_module": "@jupyter-widgets/controls",
            "_model_module_version": "1.5.0",
            "_model_name": "HTMLModel",
            "_view_count": null,
            "_view_module": "@jupyter-widgets/controls",
            "_view_module_version": "1.5.0",
            "_view_name": "HTMLView",
            "description": "",
            "description_tooltip": null,
            "layout": "IPY_MODEL_f4ef2fd3491e4ffa827112537b6d2151",
            "placeholder": "​",
            "style": "IPY_MODEL_8bd1f10767ab44709f9e015a26ff9380",
            "value": " 358/358 [05:16&lt;00:00,  1.14it/s]"
          }
        },
        "28df0fdc22c94d84b25b075c4f889959": {
          "model_module": "@jupyter-widgets/base",
          "model_name": "LayoutModel",
          "model_module_version": "1.2.0",
          "state": {
            "_model_module": "@jupyter-widgets/base",
            "_model_module_version": "1.2.0",
            "_model_name": "LayoutModel",
            "_view_count": null,
            "_view_module": "@jupyter-widgets/base",
            "_view_module_version": "1.2.0",
            "_view_name": "LayoutView",
            "align_content": null,
            "align_items": null,
            "align_self": null,
            "border": null,
            "bottom": null,
            "display": null,
            "flex": null,
            "flex_flow": null,
            "grid_area": null,
            "grid_auto_columns": null,
            "grid_auto_flow": null,
            "grid_auto_rows": null,
            "grid_column": null,
            "grid_gap": null,
            "grid_row": null,
            "grid_template_areas": null,
            "grid_template_columns": null,
            "grid_template_rows": null,
            "height": null,
            "justify_content": null,
            "justify_items": null,
            "left": null,
            "margin": null,
            "max_height": null,
            "max_width": null,
            "min_height": null,
            "min_width": null,
            "object_fit": null,
            "object_position": null,
            "order": null,
            "overflow": null,
            "overflow_x": null,
            "overflow_y": null,
            "padding": null,
            "right": null,
            "top": null,
            "visibility": null,
            "width": null
          }
        },
        "56f03373877c498fbc82d3d8c39334fa": {
          "model_module": "@jupyter-widgets/base",
          "model_name": "LayoutModel",
          "model_module_version": "1.2.0",
          "state": {
            "_model_module": "@jupyter-widgets/base",
            "_model_module_version": "1.2.0",
            "_model_name": "LayoutModel",
            "_view_count": null,
            "_view_module": "@jupyter-widgets/base",
            "_view_module_version": "1.2.0",
            "_view_name": "LayoutView",
            "align_content": null,
            "align_items": null,
            "align_self": null,
            "border": null,
            "bottom": null,
            "display": null,
            "flex": null,
            "flex_flow": null,
            "grid_area": null,
            "grid_auto_columns": null,
            "grid_auto_flow": null,
            "grid_auto_rows": null,
            "grid_column": null,
            "grid_gap": null,
            "grid_row": null,
            "grid_template_areas": null,
            "grid_template_columns": null,
            "grid_template_rows": null,
            "height": null,
            "justify_content": null,
            "justify_items": null,
            "left": null,
            "margin": null,
            "max_height": null,
            "max_width": null,
            "min_height": null,
            "min_width": null,
            "object_fit": null,
            "object_position": null,
            "order": null,
            "overflow": null,
            "overflow_x": null,
            "overflow_y": null,
            "padding": null,
            "right": null,
            "top": null,
            "visibility": null,
            "width": null
          }
        },
        "5327b3e2cc7240bba1bfc55a8ac7caaa": {
          "model_module": "@jupyter-widgets/controls",
          "model_name": "DescriptionStyleModel",
          "model_module_version": "1.5.0",
          "state": {
            "_model_module": "@jupyter-widgets/controls",
            "_model_module_version": "1.5.0",
            "_model_name": "DescriptionStyleModel",
            "_view_count": null,
            "_view_module": "@jupyter-widgets/base",
            "_view_module_version": "1.2.0",
            "_view_name": "StyleView",
            "description_width": ""
          }
        },
        "f5b00cd072b7432c8ef27b5c574c5b8c": {
          "model_module": "@jupyter-widgets/base",
          "model_name": "LayoutModel",
          "model_module_version": "1.2.0",
          "state": {
            "_model_module": "@jupyter-widgets/base",
            "_model_module_version": "1.2.0",
            "_model_name": "LayoutModel",
            "_view_count": null,
            "_view_module": "@jupyter-widgets/base",
            "_view_module_version": "1.2.0",
            "_view_name": "LayoutView",
            "align_content": null,
            "align_items": null,
            "align_self": null,
            "border": null,
            "bottom": null,
            "display": null,
            "flex": null,
            "flex_flow": null,
            "grid_area": null,
            "grid_auto_columns": null,
            "grid_auto_flow": null,
            "grid_auto_rows": null,
            "grid_column": null,
            "grid_gap": null,
            "grid_row": null,
            "grid_template_areas": null,
            "grid_template_columns": null,
            "grid_template_rows": null,
            "height": null,
            "justify_content": null,
            "justify_items": null,
            "left": null,
            "margin": null,
            "max_height": null,
            "max_width": null,
            "min_height": null,
            "min_width": null,
            "object_fit": null,
            "object_position": null,
            "order": null,
            "overflow": null,
            "overflow_x": null,
            "overflow_y": null,
            "padding": null,
            "right": null,
            "top": null,
            "visibility": null,
            "width": null
          }
        },
        "cdb2f058c3184a82945c2056d5b3c6ab": {
          "model_module": "@jupyter-widgets/controls",
          "model_name": "ProgressStyleModel",
          "model_module_version": "1.5.0",
          "state": {
            "_model_module": "@jupyter-widgets/controls",
            "_model_module_version": "1.5.0",
            "_model_name": "ProgressStyleModel",
            "_view_count": null,
            "_view_module": "@jupyter-widgets/base",
            "_view_module_version": "1.2.0",
            "_view_name": "StyleView",
            "bar_color": null,
            "description_width": ""
          }
        },
        "f4ef2fd3491e4ffa827112537b6d2151": {
          "model_module": "@jupyter-widgets/base",
          "model_name": "LayoutModel",
          "model_module_version": "1.2.0",
          "state": {
            "_model_module": "@jupyter-widgets/base",
            "_model_module_version": "1.2.0",
            "_model_name": "LayoutModel",
            "_view_count": null,
            "_view_module": "@jupyter-widgets/base",
            "_view_module_version": "1.2.0",
            "_view_name": "LayoutView",
            "align_content": null,
            "align_items": null,
            "align_self": null,
            "border": null,
            "bottom": null,
            "display": null,
            "flex": null,
            "flex_flow": null,
            "grid_area": null,
            "grid_auto_columns": null,
            "grid_auto_flow": null,
            "grid_auto_rows": null,
            "grid_column": null,
            "grid_gap": null,
            "grid_row": null,
            "grid_template_areas": null,
            "grid_template_columns": null,
            "grid_template_rows": null,
            "height": null,
            "justify_content": null,
            "justify_items": null,
            "left": null,
            "margin": null,
            "max_height": null,
            "max_width": null,
            "min_height": null,
            "min_width": null,
            "object_fit": null,
            "object_position": null,
            "order": null,
            "overflow": null,
            "overflow_x": null,
            "overflow_y": null,
            "padding": null,
            "right": null,
            "top": null,
            "visibility": null,
            "width": null
          }
        },
        "8bd1f10767ab44709f9e015a26ff9380": {
          "model_module": "@jupyter-widgets/controls",
          "model_name": "DescriptionStyleModel",
          "model_module_version": "1.5.0",
          "state": {
            "_model_module": "@jupyter-widgets/controls",
            "_model_module_version": "1.5.0",
            "_model_name": "DescriptionStyleModel",
            "_view_count": null,
            "_view_module": "@jupyter-widgets/base",
            "_view_module_version": "1.2.0",
            "_view_name": "StyleView",
            "description_width": ""
          }
        },
        "c9fa0d1d78ff424fb40d5196388347e0": {
          "model_module": "@jupyter-widgets/controls",
          "model_name": "HBoxModel",
          "model_module_version": "1.5.0",
          "state": {
            "_dom_classes": [],
            "_model_module": "@jupyter-widgets/controls",
            "_model_module_version": "1.5.0",
            "_model_name": "HBoxModel",
            "_view_count": null,
            "_view_module": "@jupyter-widgets/controls",
            "_view_module_version": "1.5.0",
            "_view_name": "HBoxView",
            "box_style": "",
            "children": [
              "IPY_MODEL_63b171908c744decbbbf84d5613d8255",
              "IPY_MODEL_df5fca190f8e43088d0f18c8e46f4a1c",
              "IPY_MODEL_118a6104c9db4a4cbd2ac1f780d58d87"
            ],
            "layout": "IPY_MODEL_07c7d7669d1e47d0829f4e3df262b4c8"
          }
        },
        "63b171908c744decbbbf84d5613d8255": {
          "model_module": "@jupyter-widgets/controls",
          "model_name": "HTMLModel",
          "model_module_version": "1.5.0",
          "state": {
            "_dom_classes": [],
            "_model_module": "@jupyter-widgets/controls",
            "_model_module_version": "1.5.0",
            "_model_name": "HTMLModel",
            "_view_count": null,
            "_view_module": "@jupyter-widgets/controls",
            "_view_module_version": "1.5.0",
            "_view_name": "HTMLView",
            "description": "",
            "description_tooltip": null,
            "layout": "IPY_MODEL_de7658bc8e2d406db86ed4170d692cff",
            "placeholder": "​",
            "style": "IPY_MODEL_0ce6eae066a24747b5f2caa91a591a58",
            "value": "100%"
          }
        },
        "df5fca190f8e43088d0f18c8e46f4a1c": {
          "model_module": "@jupyter-widgets/controls",
          "model_name": "FloatProgressModel",
          "model_module_version": "1.5.0",
          "state": {
            "_dom_classes": [],
            "_model_module": "@jupyter-widgets/controls",
            "_model_module_version": "1.5.0",
            "_model_name": "FloatProgressModel",
            "_view_count": null,
            "_view_module": "@jupyter-widgets/controls",
            "_view_module_version": "1.5.0",
            "_view_name": "ProgressView",
            "bar_style": "success",
            "description": "",
            "description_tooltip": null,
            "layout": "IPY_MODEL_b52830447c5e45f1a1bf5f4cd4c8af96",
            "max": 1,
            "min": 0,
            "orientation": "horizontal",
            "style": "IPY_MODEL_4e9c2afdabe2474fa9fa06e45d5dc2bf",
            "value": 1
          }
        },
        "118a6104c9db4a4cbd2ac1f780d58d87": {
          "model_module": "@jupyter-widgets/controls",
          "model_name": "HTMLModel",
          "model_module_version": "1.5.0",
          "state": {
            "_dom_classes": [],
            "_model_module": "@jupyter-widgets/controls",
            "_model_module_version": "1.5.0",
            "_model_name": "HTMLModel",
            "_view_count": null,
            "_view_module": "@jupyter-widgets/controls",
            "_view_module_version": "1.5.0",
            "_view_name": "HTMLView",
            "description": "",
            "description_tooltip": null,
            "layout": "IPY_MODEL_f488d9bbb5b848b4835125ec7fbac8be",
            "placeholder": "​",
            "style": "IPY_MODEL_e901b9cf0c8f43048450df07519aca34",
            "value": " 1/1 [00:00&lt;00:00,  2.84ba/s]"
          }
        },
        "07c7d7669d1e47d0829f4e3df262b4c8": {
          "model_module": "@jupyter-widgets/base",
          "model_name": "LayoutModel",
          "model_module_version": "1.2.0",
          "state": {
            "_model_module": "@jupyter-widgets/base",
            "_model_module_version": "1.2.0",
            "_model_name": "LayoutModel",
            "_view_count": null,
            "_view_module": "@jupyter-widgets/base",
            "_view_module_version": "1.2.0",
            "_view_name": "LayoutView",
            "align_content": null,
            "align_items": null,
            "align_self": null,
            "border": null,
            "bottom": null,
            "display": null,
            "flex": null,
            "flex_flow": null,
            "grid_area": null,
            "grid_auto_columns": null,
            "grid_auto_flow": null,
            "grid_auto_rows": null,
            "grid_column": null,
            "grid_gap": null,
            "grid_row": null,
            "grid_template_areas": null,
            "grid_template_columns": null,
            "grid_template_rows": null,
            "height": null,
            "justify_content": null,
            "justify_items": null,
            "left": null,
            "margin": null,
            "max_height": null,
            "max_width": null,
            "min_height": null,
            "min_width": null,
            "object_fit": null,
            "object_position": null,
            "order": null,
            "overflow": null,
            "overflow_x": null,
            "overflow_y": null,
            "padding": null,
            "right": null,
            "top": null,
            "visibility": null,
            "width": null
          }
        },
        "de7658bc8e2d406db86ed4170d692cff": {
          "model_module": "@jupyter-widgets/base",
          "model_name": "LayoutModel",
          "model_module_version": "1.2.0",
          "state": {
            "_model_module": "@jupyter-widgets/base",
            "_model_module_version": "1.2.0",
            "_model_name": "LayoutModel",
            "_view_count": null,
            "_view_module": "@jupyter-widgets/base",
            "_view_module_version": "1.2.0",
            "_view_name": "LayoutView",
            "align_content": null,
            "align_items": null,
            "align_self": null,
            "border": null,
            "bottom": null,
            "display": null,
            "flex": null,
            "flex_flow": null,
            "grid_area": null,
            "grid_auto_columns": null,
            "grid_auto_flow": null,
            "grid_auto_rows": null,
            "grid_column": null,
            "grid_gap": null,
            "grid_row": null,
            "grid_template_areas": null,
            "grid_template_columns": null,
            "grid_template_rows": null,
            "height": null,
            "justify_content": null,
            "justify_items": null,
            "left": null,
            "margin": null,
            "max_height": null,
            "max_width": null,
            "min_height": null,
            "min_width": null,
            "object_fit": null,
            "object_position": null,
            "order": null,
            "overflow": null,
            "overflow_x": null,
            "overflow_y": null,
            "padding": null,
            "right": null,
            "top": null,
            "visibility": null,
            "width": null
          }
        },
        "0ce6eae066a24747b5f2caa91a591a58": {
          "model_module": "@jupyter-widgets/controls",
          "model_name": "DescriptionStyleModel",
          "model_module_version": "1.5.0",
          "state": {
            "_model_module": "@jupyter-widgets/controls",
            "_model_module_version": "1.5.0",
            "_model_name": "DescriptionStyleModel",
            "_view_count": null,
            "_view_module": "@jupyter-widgets/base",
            "_view_module_version": "1.2.0",
            "_view_name": "StyleView",
            "description_width": ""
          }
        },
        "b52830447c5e45f1a1bf5f4cd4c8af96": {
          "model_module": "@jupyter-widgets/base",
          "model_name": "LayoutModel",
          "model_module_version": "1.2.0",
          "state": {
            "_model_module": "@jupyter-widgets/base",
            "_model_module_version": "1.2.0",
            "_model_name": "LayoutModel",
            "_view_count": null,
            "_view_module": "@jupyter-widgets/base",
            "_view_module_version": "1.2.0",
            "_view_name": "LayoutView",
            "align_content": null,
            "align_items": null,
            "align_self": null,
            "border": null,
            "bottom": null,
            "display": null,
            "flex": null,
            "flex_flow": null,
            "grid_area": null,
            "grid_auto_columns": null,
            "grid_auto_flow": null,
            "grid_auto_rows": null,
            "grid_column": null,
            "grid_gap": null,
            "grid_row": null,
            "grid_template_areas": null,
            "grid_template_columns": null,
            "grid_template_rows": null,
            "height": null,
            "justify_content": null,
            "justify_items": null,
            "left": null,
            "margin": null,
            "max_height": null,
            "max_width": null,
            "min_height": null,
            "min_width": null,
            "object_fit": null,
            "object_position": null,
            "order": null,
            "overflow": null,
            "overflow_x": null,
            "overflow_y": null,
            "padding": null,
            "right": null,
            "top": null,
            "visibility": null,
            "width": null
          }
        },
        "4e9c2afdabe2474fa9fa06e45d5dc2bf": {
          "model_module": "@jupyter-widgets/controls",
          "model_name": "ProgressStyleModel",
          "model_module_version": "1.5.0",
          "state": {
            "_model_module": "@jupyter-widgets/controls",
            "_model_module_version": "1.5.0",
            "_model_name": "ProgressStyleModel",
            "_view_count": null,
            "_view_module": "@jupyter-widgets/base",
            "_view_module_version": "1.2.0",
            "_view_name": "StyleView",
            "bar_color": null,
            "description_width": ""
          }
        },
        "f488d9bbb5b848b4835125ec7fbac8be": {
          "model_module": "@jupyter-widgets/base",
          "model_name": "LayoutModel",
          "model_module_version": "1.2.0",
          "state": {
            "_model_module": "@jupyter-widgets/base",
            "_model_module_version": "1.2.0",
            "_model_name": "LayoutModel",
            "_view_count": null,
            "_view_module": "@jupyter-widgets/base",
            "_view_module_version": "1.2.0",
            "_view_name": "LayoutView",
            "align_content": null,
            "align_items": null,
            "align_self": null,
            "border": null,
            "bottom": null,
            "display": null,
            "flex": null,
            "flex_flow": null,
            "grid_area": null,
            "grid_auto_columns": null,
            "grid_auto_flow": null,
            "grid_auto_rows": null,
            "grid_column": null,
            "grid_gap": null,
            "grid_row": null,
            "grid_template_areas": null,
            "grid_template_columns": null,
            "grid_template_rows": null,
            "height": null,
            "justify_content": null,
            "justify_items": null,
            "left": null,
            "margin": null,
            "max_height": null,
            "max_width": null,
            "min_height": null,
            "min_width": null,
            "object_fit": null,
            "object_position": null,
            "order": null,
            "overflow": null,
            "overflow_x": null,
            "overflow_y": null,
            "padding": null,
            "right": null,
            "top": null,
            "visibility": null,
            "width": null
          }
        },
        "e901b9cf0c8f43048450df07519aca34": {
          "model_module": "@jupyter-widgets/controls",
          "model_name": "DescriptionStyleModel",
          "model_module_version": "1.5.0",
          "state": {
            "_model_module": "@jupyter-widgets/controls",
            "_model_module_version": "1.5.0",
            "_model_name": "DescriptionStyleModel",
            "_view_count": null,
            "_view_module": "@jupyter-widgets/base",
            "_view_module_version": "1.2.0",
            "_view_name": "StyleView",
            "description_width": ""
          }
        },
        "6a64e699aba440848689045af17987d7": {
          "model_module": "@jupyter-widgets/controls",
          "model_name": "HBoxModel",
          "model_module_version": "1.5.0",
          "state": {
            "_dom_classes": [],
            "_model_module": "@jupyter-widgets/controls",
            "_model_module_version": "1.5.0",
            "_model_name": "HBoxModel",
            "_view_count": null,
            "_view_module": "@jupyter-widgets/controls",
            "_view_module_version": "1.5.0",
            "_view_name": "HBoxView",
            "box_style": "",
            "children": [
              "IPY_MODEL_6aafc7dd36974282a8095b06d9d8bb37",
              "IPY_MODEL_348c3585de3c4357b1be8a76c41da73d",
              "IPY_MODEL_2cef57d87d7d4b2e92ed29692469dacc"
            ],
            "layout": "IPY_MODEL_8040c43d7d7a4e3698704aa94642350d"
          }
        },
        "6aafc7dd36974282a8095b06d9d8bb37": {
          "model_module": "@jupyter-widgets/controls",
          "model_name": "HTMLModel",
          "model_module_version": "1.5.0",
          "state": {
            "_dom_classes": [],
            "_model_module": "@jupyter-widgets/controls",
            "_model_module_version": "1.5.0",
            "_model_name": "HTMLModel",
            "_view_count": null,
            "_view_module": "@jupyter-widgets/controls",
            "_view_module_version": "1.5.0",
            "_view_name": "HTMLView",
            "description": "",
            "description_tooltip": null,
            "layout": "IPY_MODEL_1f86eb74b1bb471d837160929fcbbb0d",
            "placeholder": "​",
            "style": "IPY_MODEL_18fa003786324b118241074c27dc82d5",
            "value": "100%"
          }
        },
        "348c3585de3c4357b1be8a76c41da73d": {
          "model_module": "@jupyter-widgets/controls",
          "model_name": "FloatProgressModel",
          "model_module_version": "1.5.0",
          "state": {
            "_dom_classes": [],
            "_model_module": "@jupyter-widgets/controls",
            "_model_module_version": "1.5.0",
            "_model_name": "FloatProgressModel",
            "_view_count": null,
            "_view_module": "@jupyter-widgets/controls",
            "_view_module_version": "1.5.0",
            "_view_name": "ProgressView",
            "bar_style": "success",
            "description": "",
            "description_tooltip": null,
            "layout": "IPY_MODEL_101d6c1523db4c8d877a88c90bdede23",
            "max": 358,
            "min": 0,
            "orientation": "horizontal",
            "style": "IPY_MODEL_ab3b9b339d9e404bb93b4ee0bcd2e61f",
            "value": 358
          }
        },
        "2cef57d87d7d4b2e92ed29692469dacc": {
          "model_module": "@jupyter-widgets/controls",
          "model_name": "HTMLModel",
          "model_module_version": "1.5.0",
          "state": {
            "_dom_classes": [],
            "_model_module": "@jupyter-widgets/controls",
            "_model_module_version": "1.5.0",
            "_model_name": "HTMLModel",
            "_view_count": null,
            "_view_module": "@jupyter-widgets/controls",
            "_view_module_version": "1.5.0",
            "_view_name": "HTMLView",
            "description": "",
            "description_tooltip": null,
            "layout": "IPY_MODEL_e644db9ba4ed44e6ac450345c22db168",
            "placeholder": "​",
            "style": "IPY_MODEL_7d971d01ef7946169057b0a5d8a33bc5",
            "value": " 358/358 [00:16&lt;00:00, 13.23it/s]"
          }
        },
        "8040c43d7d7a4e3698704aa94642350d": {
          "model_module": "@jupyter-widgets/base",
          "model_name": "LayoutModel",
          "model_module_version": "1.2.0",
          "state": {
            "_model_module": "@jupyter-widgets/base",
            "_model_module_version": "1.2.0",
            "_model_name": "LayoutModel",
            "_view_count": null,
            "_view_module": "@jupyter-widgets/base",
            "_view_module_version": "1.2.0",
            "_view_name": "LayoutView",
            "align_content": null,
            "align_items": null,
            "align_self": null,
            "border": null,
            "bottom": null,
            "display": null,
            "flex": null,
            "flex_flow": null,
            "grid_area": null,
            "grid_auto_columns": null,
            "grid_auto_flow": null,
            "grid_auto_rows": null,
            "grid_column": null,
            "grid_gap": null,
            "grid_row": null,
            "grid_template_areas": null,
            "grid_template_columns": null,
            "grid_template_rows": null,
            "height": null,
            "justify_content": null,
            "justify_items": null,
            "left": null,
            "margin": null,
            "max_height": null,
            "max_width": null,
            "min_height": null,
            "min_width": null,
            "object_fit": null,
            "object_position": null,
            "order": null,
            "overflow": null,
            "overflow_x": null,
            "overflow_y": null,
            "padding": null,
            "right": null,
            "top": null,
            "visibility": null,
            "width": null
          }
        },
        "1f86eb74b1bb471d837160929fcbbb0d": {
          "model_module": "@jupyter-widgets/base",
          "model_name": "LayoutModel",
          "model_module_version": "1.2.0",
          "state": {
            "_model_module": "@jupyter-widgets/base",
            "_model_module_version": "1.2.0",
            "_model_name": "LayoutModel",
            "_view_count": null,
            "_view_module": "@jupyter-widgets/base",
            "_view_module_version": "1.2.0",
            "_view_name": "LayoutView",
            "align_content": null,
            "align_items": null,
            "align_self": null,
            "border": null,
            "bottom": null,
            "display": null,
            "flex": null,
            "flex_flow": null,
            "grid_area": null,
            "grid_auto_columns": null,
            "grid_auto_flow": null,
            "grid_auto_rows": null,
            "grid_column": null,
            "grid_gap": null,
            "grid_row": null,
            "grid_template_areas": null,
            "grid_template_columns": null,
            "grid_template_rows": null,
            "height": null,
            "justify_content": null,
            "justify_items": null,
            "left": null,
            "margin": null,
            "max_height": null,
            "max_width": null,
            "min_height": null,
            "min_width": null,
            "object_fit": null,
            "object_position": null,
            "order": null,
            "overflow": null,
            "overflow_x": null,
            "overflow_y": null,
            "padding": null,
            "right": null,
            "top": null,
            "visibility": null,
            "width": null
          }
        },
        "18fa003786324b118241074c27dc82d5": {
          "model_module": "@jupyter-widgets/controls",
          "model_name": "DescriptionStyleModel",
          "model_module_version": "1.5.0",
          "state": {
            "_model_module": "@jupyter-widgets/controls",
            "_model_module_version": "1.5.0",
            "_model_name": "DescriptionStyleModel",
            "_view_count": null,
            "_view_module": "@jupyter-widgets/base",
            "_view_module_version": "1.2.0",
            "_view_name": "StyleView",
            "description_width": ""
          }
        },
        "101d6c1523db4c8d877a88c90bdede23": {
          "model_module": "@jupyter-widgets/base",
          "model_name": "LayoutModel",
          "model_module_version": "1.2.0",
          "state": {
            "_model_module": "@jupyter-widgets/base",
            "_model_module_version": "1.2.0",
            "_model_name": "LayoutModel",
            "_view_count": null,
            "_view_module": "@jupyter-widgets/base",
            "_view_module_version": "1.2.0",
            "_view_name": "LayoutView",
            "align_content": null,
            "align_items": null,
            "align_self": null,
            "border": null,
            "bottom": null,
            "display": null,
            "flex": null,
            "flex_flow": null,
            "grid_area": null,
            "grid_auto_columns": null,
            "grid_auto_flow": null,
            "grid_auto_rows": null,
            "grid_column": null,
            "grid_gap": null,
            "grid_row": null,
            "grid_template_areas": null,
            "grid_template_columns": null,
            "grid_template_rows": null,
            "height": null,
            "justify_content": null,
            "justify_items": null,
            "left": null,
            "margin": null,
            "max_height": null,
            "max_width": null,
            "min_height": null,
            "min_width": null,
            "object_fit": null,
            "object_position": null,
            "order": null,
            "overflow": null,
            "overflow_x": null,
            "overflow_y": null,
            "padding": null,
            "right": null,
            "top": null,
            "visibility": null,
            "width": null
          }
        },
        "ab3b9b339d9e404bb93b4ee0bcd2e61f": {
          "model_module": "@jupyter-widgets/controls",
          "model_name": "ProgressStyleModel",
          "model_module_version": "1.5.0",
          "state": {
            "_model_module": "@jupyter-widgets/controls",
            "_model_module_version": "1.5.0",
            "_model_name": "ProgressStyleModel",
            "_view_count": null,
            "_view_module": "@jupyter-widgets/base",
            "_view_module_version": "1.2.0",
            "_view_name": "StyleView",
            "bar_color": null,
            "description_width": ""
          }
        },
        "e644db9ba4ed44e6ac450345c22db168": {
          "model_module": "@jupyter-widgets/base",
          "model_name": "LayoutModel",
          "model_module_version": "1.2.0",
          "state": {
            "_model_module": "@jupyter-widgets/base",
            "_model_module_version": "1.2.0",
            "_model_name": "LayoutModel",
            "_view_count": null,
            "_view_module": "@jupyter-widgets/base",
            "_view_module_version": "1.2.0",
            "_view_name": "LayoutView",
            "align_content": null,
            "align_items": null,
            "align_self": null,
            "border": null,
            "bottom": null,
            "display": null,
            "flex": null,
            "flex_flow": null,
            "grid_area": null,
            "grid_auto_columns": null,
            "grid_auto_flow": null,
            "grid_auto_rows": null,
            "grid_column": null,
            "grid_gap": null,
            "grid_row": null,
            "grid_template_areas": null,
            "grid_template_columns": null,
            "grid_template_rows": null,
            "height": null,
            "justify_content": null,
            "justify_items": null,
            "left": null,
            "margin": null,
            "max_height": null,
            "max_width": null,
            "min_height": null,
            "min_width": null,
            "object_fit": null,
            "object_position": null,
            "order": null,
            "overflow": null,
            "overflow_x": null,
            "overflow_y": null,
            "padding": null,
            "right": null,
            "top": null,
            "visibility": null,
            "width": null
          }
        },
        "7d971d01ef7946169057b0a5d8a33bc5": {
          "model_module": "@jupyter-widgets/controls",
          "model_name": "DescriptionStyleModel",
          "model_module_version": "1.5.0",
          "state": {
            "_model_module": "@jupyter-widgets/controls",
            "_model_module_version": "1.5.0",
            "_model_name": "DescriptionStyleModel",
            "_view_count": null,
            "_view_module": "@jupyter-widgets/base",
            "_view_module_version": "1.2.0",
            "_view_name": "StyleView",
            "description_width": ""
          }
        },
        "4d57af858ae64c6aafb23f0511833929": {
          "model_module": "@jupyter-widgets/controls",
          "model_name": "HBoxModel",
          "model_module_version": "1.5.0",
          "state": {
            "_dom_classes": [],
            "_model_module": "@jupyter-widgets/controls",
            "_model_module_version": "1.5.0",
            "_model_name": "HBoxModel",
            "_view_count": null,
            "_view_module": "@jupyter-widgets/controls",
            "_view_module_version": "1.5.0",
            "_view_name": "HBoxView",
            "box_style": "",
            "children": [
              "IPY_MODEL_1c62ebc31ad441eca8bc90094dfc1938",
              "IPY_MODEL_f8b73d2b0fad49b08c86b623c4c18dc8",
              "IPY_MODEL_db1abd93fd674e4f853a808fe2c79085"
            ],
            "layout": "IPY_MODEL_4bc82135d9684a5c9ed2846f7961264f"
          }
        },
        "1c62ebc31ad441eca8bc90094dfc1938": {
          "model_module": "@jupyter-widgets/controls",
          "model_name": "HTMLModel",
          "model_module_version": "1.5.0",
          "state": {
            "_dom_classes": [],
            "_model_module": "@jupyter-widgets/controls",
            "_model_module_version": "1.5.0",
            "_model_name": "HTMLModel",
            "_view_count": null,
            "_view_module": "@jupyter-widgets/controls",
            "_view_module_version": "1.5.0",
            "_view_name": "HTMLView",
            "description": "",
            "description_tooltip": null,
            "layout": "IPY_MODEL_5b5a378cade5464b9dcc0bab0120b57a",
            "placeholder": "​",
            "style": "IPY_MODEL_c766b00e899c4c5a9f1edf10a4dfa9c4",
            "value": "100%"
          }
        },
        "f8b73d2b0fad49b08c86b623c4c18dc8": {
          "model_module": "@jupyter-widgets/controls",
          "model_name": "FloatProgressModel",
          "model_module_version": "1.5.0",
          "state": {
            "_dom_classes": [],
            "_model_module": "@jupyter-widgets/controls",
            "_model_module_version": "1.5.0",
            "_model_name": "FloatProgressModel",
            "_view_count": null,
            "_view_module": "@jupyter-widgets/controls",
            "_view_module_version": "1.5.0",
            "_view_name": "ProgressView",
            "bar_style": "success",
            "description": "",
            "description_tooltip": null,
            "layout": "IPY_MODEL_34a49c85b58b40de918569b9fe964106",
            "max": 358,
            "min": 0,
            "orientation": "horizontal",
            "style": "IPY_MODEL_d9e225551dc7422da96541878d4885a1",
            "value": 358
          }
        },
        "db1abd93fd674e4f853a808fe2c79085": {
          "model_module": "@jupyter-widgets/controls",
          "model_name": "HTMLModel",
          "model_module_version": "1.5.0",
          "state": {
            "_dom_classes": [],
            "_model_module": "@jupyter-widgets/controls",
            "_model_module_version": "1.5.0",
            "_model_name": "HTMLModel",
            "_view_count": null,
            "_view_module": "@jupyter-widgets/controls",
            "_view_module_version": "1.5.0",
            "_view_name": "HTMLView",
            "description": "",
            "description_tooltip": null,
            "layout": "IPY_MODEL_7bff6d630d73429986f5547b01c6c3f5",
            "placeholder": "​",
            "style": "IPY_MODEL_49f0e236d5b640b790a4cffa279efec6",
            "value": " 358/358 [00:17&lt;00:00, 33.19it/s]"
          }
        },
        "4bc82135d9684a5c9ed2846f7961264f": {
          "model_module": "@jupyter-widgets/base",
          "model_name": "LayoutModel",
          "model_module_version": "1.2.0",
          "state": {
            "_model_module": "@jupyter-widgets/base",
            "_model_module_version": "1.2.0",
            "_model_name": "LayoutModel",
            "_view_count": null,
            "_view_module": "@jupyter-widgets/base",
            "_view_module_version": "1.2.0",
            "_view_name": "LayoutView",
            "align_content": null,
            "align_items": null,
            "align_self": null,
            "border": null,
            "bottom": null,
            "display": null,
            "flex": null,
            "flex_flow": null,
            "grid_area": null,
            "grid_auto_columns": null,
            "grid_auto_flow": null,
            "grid_auto_rows": null,
            "grid_column": null,
            "grid_gap": null,
            "grid_row": null,
            "grid_template_areas": null,
            "grid_template_columns": null,
            "grid_template_rows": null,
            "height": null,
            "justify_content": null,
            "justify_items": null,
            "left": null,
            "margin": null,
            "max_height": null,
            "max_width": null,
            "min_height": null,
            "min_width": null,
            "object_fit": null,
            "object_position": null,
            "order": null,
            "overflow": null,
            "overflow_x": null,
            "overflow_y": null,
            "padding": null,
            "right": null,
            "top": null,
            "visibility": null,
            "width": null
          }
        },
        "5b5a378cade5464b9dcc0bab0120b57a": {
          "model_module": "@jupyter-widgets/base",
          "model_name": "LayoutModel",
          "model_module_version": "1.2.0",
          "state": {
            "_model_module": "@jupyter-widgets/base",
            "_model_module_version": "1.2.0",
            "_model_name": "LayoutModel",
            "_view_count": null,
            "_view_module": "@jupyter-widgets/base",
            "_view_module_version": "1.2.0",
            "_view_name": "LayoutView",
            "align_content": null,
            "align_items": null,
            "align_self": null,
            "border": null,
            "bottom": null,
            "display": null,
            "flex": null,
            "flex_flow": null,
            "grid_area": null,
            "grid_auto_columns": null,
            "grid_auto_flow": null,
            "grid_auto_rows": null,
            "grid_column": null,
            "grid_gap": null,
            "grid_row": null,
            "grid_template_areas": null,
            "grid_template_columns": null,
            "grid_template_rows": null,
            "height": null,
            "justify_content": null,
            "justify_items": null,
            "left": null,
            "margin": null,
            "max_height": null,
            "max_width": null,
            "min_height": null,
            "min_width": null,
            "object_fit": null,
            "object_position": null,
            "order": null,
            "overflow": null,
            "overflow_x": null,
            "overflow_y": null,
            "padding": null,
            "right": null,
            "top": null,
            "visibility": null,
            "width": null
          }
        },
        "c766b00e899c4c5a9f1edf10a4dfa9c4": {
          "model_module": "@jupyter-widgets/controls",
          "model_name": "DescriptionStyleModel",
          "model_module_version": "1.5.0",
          "state": {
            "_model_module": "@jupyter-widgets/controls",
            "_model_module_version": "1.5.0",
            "_model_name": "DescriptionStyleModel",
            "_view_count": null,
            "_view_module": "@jupyter-widgets/base",
            "_view_module_version": "1.2.0",
            "_view_name": "StyleView",
            "description_width": ""
          }
        },
        "34a49c85b58b40de918569b9fe964106": {
          "model_module": "@jupyter-widgets/base",
          "model_name": "LayoutModel",
          "model_module_version": "1.2.0",
          "state": {
            "_model_module": "@jupyter-widgets/base",
            "_model_module_version": "1.2.0",
            "_model_name": "LayoutModel",
            "_view_count": null,
            "_view_module": "@jupyter-widgets/base",
            "_view_module_version": "1.2.0",
            "_view_name": "LayoutView",
            "align_content": null,
            "align_items": null,
            "align_self": null,
            "border": null,
            "bottom": null,
            "display": null,
            "flex": null,
            "flex_flow": null,
            "grid_area": null,
            "grid_auto_columns": null,
            "grid_auto_flow": null,
            "grid_auto_rows": null,
            "grid_column": null,
            "grid_gap": null,
            "grid_row": null,
            "grid_template_areas": null,
            "grid_template_columns": null,
            "grid_template_rows": null,
            "height": null,
            "justify_content": null,
            "justify_items": null,
            "left": null,
            "margin": null,
            "max_height": null,
            "max_width": null,
            "min_height": null,
            "min_width": null,
            "object_fit": null,
            "object_position": null,
            "order": null,
            "overflow": null,
            "overflow_x": null,
            "overflow_y": null,
            "padding": null,
            "right": null,
            "top": null,
            "visibility": null,
            "width": null
          }
        },
        "d9e225551dc7422da96541878d4885a1": {
          "model_module": "@jupyter-widgets/controls",
          "model_name": "ProgressStyleModel",
          "model_module_version": "1.5.0",
          "state": {
            "_model_module": "@jupyter-widgets/controls",
            "_model_module_version": "1.5.0",
            "_model_name": "ProgressStyleModel",
            "_view_count": null,
            "_view_module": "@jupyter-widgets/base",
            "_view_module_version": "1.2.0",
            "_view_name": "StyleView",
            "bar_color": null,
            "description_width": ""
          }
        },
        "7bff6d630d73429986f5547b01c6c3f5": {
          "model_module": "@jupyter-widgets/base",
          "model_name": "LayoutModel",
          "model_module_version": "1.2.0",
          "state": {
            "_model_module": "@jupyter-widgets/base",
            "_model_module_version": "1.2.0",
            "_model_name": "LayoutModel",
            "_view_count": null,
            "_view_module": "@jupyter-widgets/base",
            "_view_module_version": "1.2.0",
            "_view_name": "LayoutView",
            "align_content": null,
            "align_items": null,
            "align_self": null,
            "border": null,
            "bottom": null,
            "display": null,
            "flex": null,
            "flex_flow": null,
            "grid_area": null,
            "grid_auto_columns": null,
            "grid_auto_flow": null,
            "grid_auto_rows": null,
            "grid_column": null,
            "grid_gap": null,
            "grid_row": null,
            "grid_template_areas": null,
            "grid_template_columns": null,
            "grid_template_rows": null,
            "height": null,
            "justify_content": null,
            "justify_items": null,
            "left": null,
            "margin": null,
            "max_height": null,
            "max_width": null,
            "min_height": null,
            "min_width": null,
            "object_fit": null,
            "object_position": null,
            "order": null,
            "overflow": null,
            "overflow_x": null,
            "overflow_y": null,
            "padding": null,
            "right": null,
            "top": null,
            "visibility": null,
            "width": null
          }
        },
        "49f0e236d5b640b790a4cffa279efec6": {
          "model_module": "@jupyter-widgets/controls",
          "model_name": "DescriptionStyleModel",
          "model_module_version": "1.5.0",
          "state": {
            "_model_module": "@jupyter-widgets/controls",
            "_model_module_version": "1.5.0",
            "_model_name": "DescriptionStyleModel",
            "_view_count": null,
            "_view_module": "@jupyter-widgets/base",
            "_view_module_version": "1.2.0",
            "_view_name": "StyleView",
            "description_width": ""
          }
        }
      }
    }
  },
  "nbformat": 4,
  "nbformat_minor": 0
}